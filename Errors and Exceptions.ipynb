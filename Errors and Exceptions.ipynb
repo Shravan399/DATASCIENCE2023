{
 "cells": [
  {
   "cell_type": "code",
   "execution_count": 1,
   "id": "603e4320",
   "metadata": {},
   "outputs": [
    {
     "ename": "SyntaxError",
     "evalue": "invalid syntax (3146508056.py, line 2)",
     "output_type": "error",
     "traceback": [
      "\u001b[1;36m  File \u001b[1;32m\"C:\\Users\\Pintoo\\AppData\\Local\\Temp\\ipykernel_5692\\3146508056.py\"\u001b[1;36m, line \u001b[1;32m2\u001b[0m\n\u001b[1;33m    def add()\u001b[0m\n\u001b[1;37m             ^\u001b[0m\n\u001b[1;31mSyntaxError\u001b[0m\u001b[1;31m:\u001b[0m invalid syntax\n"
     ]
    }
   ],
   "source": [
    "#Syntax error\n",
    "def add()\n",
    "    x=2\n",
    "    print(x)\n",
    "     "
   ]
  },
  {
   "cell_type": "code",
   "execution_count": 2,
   "id": "0e9faf58",
   "metadata": {},
   "outputs": [
    {
     "ename": "NameError",
     "evalue": "name 'funny' is not defined",
     "output_type": "error",
     "traceback": [
      "\u001b[1;31m---------------------------------------------------------------------------\u001b[0m",
      "\u001b[1;31mNameError\u001b[0m                                 Traceback (most recent call last)",
      "\u001b[1;32m~\\AppData\\Local\\Temp\\ipykernel_5692\\3015996708.py\u001b[0m in \u001b[0;36m<module>\u001b[1;34m\u001b[0m\n\u001b[0;32m      1\u001b[0m \u001b[1;31m#Exceptions\u001b[0m\u001b[1;33m\u001b[0m\u001b[1;33m\u001b[0m\u001b[0m\n\u001b[1;32m----> 2\u001b[1;33m \u001b[0mfunny\u001b[0m\u001b[1;33m-\u001b[0m\u001b[1;36m1\u001b[0m\u001b[1;33m\u001b[0m\u001b[1;33m\u001b[0m\u001b[0m\n\u001b[0m",
      "\u001b[1;31mNameError\u001b[0m: name 'funny' is not defined"
     ]
    }
   ],
   "source": [
    "#Exceptions\n",
    "funny-1 #NameError"
   ]
  },
  {
   "cell_type": "code",
   "execution_count": 3,
   "id": "73a06ebb",
   "metadata": {},
   "outputs": [
    {
     "ename": "AttributeError",
     "evalue": "type object 'str' has no attribute 'CAptilise'",
     "output_type": "error",
     "traceback": [
      "\u001b[1;31m---------------------------------------------------------------------------\u001b[0m",
      "\u001b[1;31mAttributeError\u001b[0m                            Traceback (most recent call last)",
      "\u001b[1;32m~\\AppData\\Local\\Temp\\ipykernel_5692\\1997494647.py\u001b[0m in \u001b[0;36m<module>\u001b[1;34m\u001b[0m\n\u001b[0;32m      1\u001b[0m \u001b[1;31m#Attribute Error\u001b[0m\u001b[1;33m\u001b[0m\u001b[1;33m\u001b[0m\u001b[0m\n\u001b[1;32m----> 2\u001b[1;33m \u001b[0mstr\u001b[0m\u001b[1;33m.\u001b[0m\u001b[0mCAptilise\u001b[0m\u001b[1;33m(\u001b[0m\u001b[1;33m)\u001b[0m\u001b[1;33m\u001b[0m\u001b[1;33m\u001b[0m\u001b[0m\n\u001b[0m",
      "\u001b[1;31mAttributeError\u001b[0m: type object 'str' has no attribute 'CAptilise'"
     ]
    }
   ],
   "source": [
    "#Attribute Error\n",
    "str.CAptilise()"
   ]
  },
  {
   "cell_type": "code",
   "execution_count": 9,
   "id": "78392d2c",
   "metadata": {},
   "outputs": [
    {
     "ename": "NameError",
     "evalue": "name 'funny' is not defined",
     "output_type": "error",
     "traceback": [
      "\u001b[1;31m---------------------------------------------------------------------------\u001b[0m",
      "\u001b[1;31mNameError\u001b[0m                                 Traceback (most recent call last)",
      "\u001b[1;32m~\\AppData\\Local\\Temp\\ipykernel_5692\\438590768.py\u001b[0m in \u001b[0;36m<module>\u001b[1;34m\u001b[0m\n\u001b[0;32m      1\u001b[0m \u001b[1;31m#Name Error\u001b[0m\u001b[1;33m\u001b[0m\u001b[1;33m\u001b[0m\u001b[0m\n\u001b[1;32m----> 2\u001b[1;33m \u001b[0mfunny\u001b[0m\u001b[1;33m.\u001b[0m\u001b[0msubtract\u001b[0m\u001b[1;33m\u001b[0m\u001b[1;33m\u001b[0m\u001b[0m\n\u001b[0m",
      "\u001b[1;31mNameError\u001b[0m: name 'funny' is not defined"
     ]
    }
   ],
   "source": [
    "#Name Error\n",
    "funny.subtract"
   ]
  },
  {
   "cell_type": "code",
   "execution_count": 7,
   "id": "bfa42d83",
   "metadata": {},
   "outputs": [
    {
     "ename": "NameError",
     "evalue": "name 'fun' is not defined",
     "output_type": "error",
     "traceback": [
      "\u001b[1;31m---------------------------------------------------------------------------\u001b[0m",
      "\u001b[1;31mNameError\u001b[0m                                 Traceback (most recent call last)",
      "\u001b[1;32m~\\AppData\\Local\\Temp\\ipykernel_5692\\529771688.py\u001b[0m in \u001b[0;36m<module>\u001b[1;34m\u001b[0m\n\u001b[1;32m----> 1\u001b[1;33m \u001b[0mfun\u001b[0m\u001b[1;33m(\u001b[0m\u001b[1;33m)\u001b[0m\u001b[1;33m\u001b[0m\u001b[1;33m\u001b[0m\u001b[0m\n\u001b[0m",
      "\u001b[1;31mNameError\u001b[0m: name 'fun' is not defined"
     ]
    }
   ],
   "source": [
    "fun()"
   ]
  },
  {
   "cell_type": "code",
   "execution_count": 8,
   "id": "78520886",
   "metadata": {},
   "outputs": [
    {
     "ename": "NameError",
     "evalue": "name 'fun' is not defined",
     "output_type": "error",
     "traceback": [
      "\u001b[1;31m---------------------------------------------------------------------------\u001b[0m",
      "\u001b[1;31mNameError\u001b[0m                                 Traceback (most recent call last)",
      "\u001b[1;32m~\\AppData\\Local\\Temp\\ipykernel_5692\\3613668489.py\u001b[0m in \u001b[0;36m<module>\u001b[1;34m\u001b[0m\n\u001b[1;32m----> 1\u001b[1;33m \u001b[0mfun\u001b[0m\u001b[1;33m.\u001b[0m\u001b[0minsert\u001b[0m\u001b[1;33m(\u001b[0m\u001b[1;33m)\u001b[0m\u001b[1;33m\u001b[0m\u001b[1;33m\u001b[0m\u001b[0m\n\u001b[0m",
      "\u001b[1;31mNameError\u001b[0m: name 'fun' is not defined"
     ]
    }
   ],
   "source": [
    "fun.insert()"
   ]
  },
  {
   "cell_type": "code",
   "execution_count": 10,
   "id": "3b7dca6e",
   "metadata": {},
   "outputs": [
    {
     "ename": "TypeError",
     "evalue": "'tuple' object does not support item assignment",
     "output_type": "error",
     "traceback": [
      "\u001b[1;31m---------------------------------------------------------------------------\u001b[0m",
      "\u001b[1;31mTypeError\u001b[0m                                 Traceback (most recent call last)",
      "\u001b[1;32m~\\AppData\\Local\\Temp\\ipykernel_5692\\1077934348.py\u001b[0m in \u001b[0;36m<module>\u001b[1;34m\u001b[0m\n\u001b[0;32m      1\u001b[0m \u001b[0mt\u001b[0m\u001b[1;33m=\u001b[0m\u001b[1;33m(\u001b[0m\u001b[1;36m1\u001b[0m\u001b[1;33m,\u001b[0m\u001b[1;36m2\u001b[0m\u001b[1;33m,\u001b[0m\u001b[1;36m3\u001b[0m\u001b[1;33m)\u001b[0m\u001b[1;33m\u001b[0m\u001b[1;33m\u001b[0m\u001b[0m\n\u001b[1;32m----> 2\u001b[1;33m \u001b[0mt\u001b[0m\u001b[1;33m[\u001b[0m\u001b[1;36m2\u001b[0m\u001b[1;33m]\u001b[0m\u001b[1;33m=\u001b[0m\u001b[1;36m5\u001b[0m\u001b[1;33m\u001b[0m\u001b[1;33m\u001b[0m\u001b[0m\n\u001b[0m",
      "\u001b[1;31mTypeError\u001b[0m: 'tuple' object does not support item assignment"
     ]
    }
   ],
   "source": [
    "#TypeError\n",
    "t=(1,2,3)\n",
    "t[2]=5"
   ]
  },
  {
   "cell_type": "code",
   "execution_count": 11,
   "id": "9ae900e2",
   "metadata": {},
   "outputs": [
    {
     "ename": "TypeError",
     "evalue": "'type' object does not support item assignment",
     "output_type": "error",
     "traceback": [
      "\u001b[1;31m---------------------------------------------------------------------------\u001b[0m",
      "\u001b[1;31mTypeError\u001b[0m                                 Traceback (most recent call last)",
      "\u001b[1;32m~\\AppData\\Local\\Temp\\ipykernel_5692\\3725104855.py\u001b[0m in \u001b[0;36m<module>\u001b[1;34m\u001b[0m\n\u001b[1;32m----> 1\u001b[1;33m \u001b[0mstr\u001b[0m\u001b[1;33m[\u001b[0m\u001b[1;36m2\u001b[0m\u001b[1;33m]\u001b[0m\u001b[1;33m=\u001b[0m\u001b[1;36m4\u001b[0m\u001b[1;33m\u001b[0m\u001b[1;33m\u001b[0m\u001b[0m\n\u001b[0m",
      "\u001b[1;31mTypeError\u001b[0m: 'type' object does not support item assignment"
     ]
    }
   ],
   "source": [
    "#TypeError\n",
    "str[2]=4"
   ]
  },
  {
   "cell_type": "code",
   "execution_count": 12,
   "id": "4606fc36",
   "metadata": {},
   "outputs": [
    {
     "data": {
      "text/plain": [
       "'s4r'"
      ]
     },
     "execution_count": 12,
     "metadata": {},
     "output_type": "execute_result"
    }
   ],
   "source": [
    "var='str'[0]+'4'+'str'[2]\n",
    "var"
   ]
  },
  {
   "cell_type": "code",
   "execution_count": 16,
   "id": "5a6bae0d",
   "metadata": {},
   "outputs": [
    {
     "data": {
      "text/plain": [
       "(1, 2, 3, 2, 3, 4)"
      ]
     },
     "execution_count": 16,
     "metadata": {},
     "output_type": "execute_result"
    }
   ],
   "source": [
    "var=(1,2,3)+(2,3,4)\n",
    "var"
   ]
  },
  {
   "cell_type": "code",
   "execution_count": 17,
   "id": "82123a62",
   "metadata": {},
   "outputs": [
    {
     "data": {
      "text/plain": [
       "[1, 2, 3, 2, 3, 4]"
      ]
     },
     "execution_count": 17,
     "metadata": {},
     "output_type": "execute_result"
    }
   ],
   "source": [
    "var=[1,2,3]+[2,3,4]\n",
    "var"
   ]
  },
  {
   "cell_type": "code",
   "execution_count": 24,
   "id": "d490788a",
   "metadata": {},
   "outputs": [
    {
     "ename": "TypeError",
     "evalue": "set expected at most 1 argument, got 3",
     "output_type": "error",
     "traceback": [
      "\u001b[1;31m---------------------------------------------------------------------------\u001b[0m",
      "\u001b[1;31mTypeError\u001b[0m                                 Traceback (most recent call last)",
      "\u001b[1;32m~\\AppData\\Local\\Temp\\ipykernel_5692\\3267574947.py\u001b[0m in \u001b[0;36m<module>\u001b[1;34m\u001b[0m\n\u001b[1;32m----> 1\u001b[1;33m \u001b[0mvar\u001b[0m\u001b[1;33m=\u001b[0m\u001b[0mset\u001b[0m\u001b[1;33m(\u001b[0m\u001b[1;36m1\u001b[0m\u001b[1;33m,\u001b[0m\u001b[1;36m2\u001b[0m\u001b[1;33m,\u001b[0m\u001b[1;36m3\u001b[0m\u001b[1;33m)\u001b[0m\u001b[1;33m\u001b[0m\u001b[1;33m\u001b[0m\u001b[0m\n\u001b[0m\u001b[0;32m      2\u001b[0m \u001b[0mvar\u001b[0m\u001b[1;33m\u001b[0m\u001b[1;33m\u001b[0m\u001b[0m\n",
      "\u001b[1;31mTypeError\u001b[0m: set expected at most 1 argument, got 3"
     ]
    }
   ],
   "source": [
    "var=set(1,2,3)\n",
    "var"
   ]
  },
  {
   "cell_type": "code",
   "execution_count": 25,
   "id": "b859a581",
   "metadata": {},
   "outputs": [
    {
     "name": "stdout",
     "output_type": "stream",
     "text": [
      "enter first number2\n",
      "enter second number3\n",
      "5\n"
     ]
    }
   ],
   "source": [
    "num1=int(input('enter first number'))\n",
    "num2=int(input('enter second number'))\n",
    "print(num1+num2)"
   ]
  },
  {
   "cell_type": "code",
   "execution_count": 27,
   "id": "7bf1443b",
   "metadata": {},
   "outputs": [
    {
     "name": "stdout",
     "output_type": "stream",
     "text": [
      "enter first number3\n",
      "enter second number4\n"
     ]
    }
   ],
   "source": [
    "try:\n",
    "    num1=int(input('enter first number'))\n",
    "    num2=int(input('enter second number'))\n",
    "except:\n",
    "    print('enter number')"
   ]
  },
  {
   "cell_type": "code",
   "execution_count": 30,
   "id": "c6d36108",
   "metadata": {},
   "outputs": [
    {
     "name": "stdout",
     "output_type": "stream",
     "text": [
      "enter numerator25\n",
      "enter divisor5\n"
     ]
    }
   ],
   "source": [
    "#wap to take input from the user and print multiplication table\n",
    "try:\n",
    "    num1=int(input(\"enter numerator\"))\n",
    "    num2=int(input(\"enter divisor\"))\n",
    "except:\n",
    "    print('cannot divide by zero')\n",
    "    \n"
   ]
  },
  {
   "cell_type": "code",
   "execution_count": 29,
   "id": "5d9e30d1",
   "metadata": {},
   "outputs": [
    {
     "name": "stdout",
     "output_type": "stream",
     "text": [
      "enter first numberone\n",
      "enter number\n"
     ]
    }
   ],
   "source": [
    "try:\n",
    "    num1=int(input('enter first number'))\n",
    "    num2=int(input('enter second number'))\n",
    "    \n",
    "except:\n",
    "    print('enter number')"
   ]
  },
  {
   "cell_type": "code",
   "execution_count": 36,
   "id": "2aa2aeb9",
   "metadata": {},
   "outputs": [],
   "source": [
    "#wap to take input from the user and print multiplication table\n"
   ]
  },
  {
   "cell_type": "code",
   "execution_count": 35,
   "id": "2d5b602c",
   "metadata": {},
   "outputs": [
    {
     "name": "stdout",
     "output_type": "stream",
     "text": [
      "enter numerator3\n",
      "enter divisor0\n",
      "cannot divide by zero\n"
     ]
    }
   ],
   "source": [
    "try:\n",
    "    num1=int(input(\"enter numerator\"))\n",
    "    num2=int(input(\"enter divisor\"))\n",
    "    num3=num1/num2\n",
    "except:\n",
    "    print('cannot divide by zero')"
   ]
  },
  {
   "cell_type": "code",
   "execution_count": 37,
   "id": "9b0c6e0c",
   "metadata": {},
   "outputs": [
    {
     "data": {
      "text/plain": [
       "AttributeError"
      ]
     },
     "execution_count": 37,
     "metadata": {},
     "output_type": "execute_result"
    }
   ],
   "source": [
    "AttributeError"
   ]
  },
  {
   "cell_type": "code",
   "execution_count": 38,
   "id": "36e4f286",
   "metadata": {},
   "outputs": [
    {
     "name": "stdout",
     "output_type": "stream",
     "text": [
      "s is not defined\n",
      "This is compulsory\n"
     ]
    }
   ],
   "source": [
    "try:\n",
    "    1/s\n",
    "except:\n",
    "    print('s is not defined')\n",
    "finally:\n",
    "    print(\"This is compulsory\")"
   ]
  },
  {
   "cell_type": "code",
   "execution_count": 39,
   "id": "e62ae54a",
   "metadata": {},
   "outputs": [
    {
     "name": "stdout",
     "output_type": "stream",
     "text": [
      "Enter a number:5\n",
      "This value is too small, try again!\n",
      "\n",
      "Enter a number:234\n",
      "This value is too large, try again!\n",
      "\n",
      "Enter a number:4\n",
      "This value is too small, try again!\n",
      "\n",
      "Enter a number:100\n",
      "This value is too large, try again!\n",
      "\n",
      "Enter a number:10\n",
      "Congratulations! You guessed it correctly\n"
     ]
    }
   ],
   "source": [
    "#define python user-defined exceptions\n",
    "class Error(Exception):\n",
    "    \"\"\"Base class for other exceptions\"\"\"\n",
    "    pass\n",
    "class ValueTooSmallError(Error):\n",
    "    \"\"\"Raised when the input value is too small\"\"\"\n",
    "    pass\n",
    "class ValueTooLargeError(Error):\n",
    "    \"\"\"Raised when the input value is too large\"\"\"\n",
    "    pass\n",
    "number=10\n",
    "while True:\n",
    "    try:\n",
    "        i_num = int(input(\"Enter a number:\"))\n",
    "        if i_num < number:\n",
    "            raise ValueTooSmallError\n",
    "        elif i_num > number:\n",
    "            raise ValueTooLargeError\n",
    "        break\n",
    "    except ValueTooSmallError:\n",
    "        print(\"This value is too small, try again!\")\n",
    "        print()\n",
    "    except ValueTooLargeError:\n",
    "        print(\"This value is too large, try again!\")\n",
    "        print()\n",
    "print(\"Congratulations! You guessed it correctly\")"
   ]
  },
  {
   "cell_type": "code",
   "execution_count": 40,
   "id": "ac0ec4e6",
   "metadata": {},
   "outputs": [
    {
     "data": {
      "text/plain": [
       "<map at 0x247377d3340>"
      ]
     },
     "execution_count": 40,
     "metadata": {},
     "output_type": "execute_result"
    }
   ],
   "source": [
    "#Map   #TrueFalse\n",
    "x=['name']\n",
    "map(len,x)"
   ]
  },
  {
   "cell_type": "code",
   "execution_count": 41,
   "id": "915b0477",
   "metadata": {},
   "outputs": [
    {
     "data": {
      "text/plain": [
       "[4]"
      ]
     },
     "execution_count": 41,
     "metadata": {},
     "output_type": "execute_result"
    }
   ],
   "source": [
    "list(map(len,x))"
   ]
  },
  {
   "cell_type": "code",
   "execution_count": 43,
   "id": "c1f33528",
   "metadata": {},
   "outputs": [],
   "source": [
    "def kelvin(n):\n",
    "    return n+273"
   ]
  },
  {
   "cell_type": "code",
   "execution_count": 44,
   "id": "6090f4de",
   "metadata": {},
   "outputs": [
    {
     "data": {
      "text/plain": [
       "[296, 327, 305, 360, 327, 285, 318, 307]"
      ]
     },
     "execution_count": 44,
     "metadata": {},
     "output_type": "execute_result"
    }
   ],
   "source": [
    "#map(func,collect)\n",
    "celcuis=[23,54,32,87,54,12,45,34]\n",
    "kelvin_=list(map(kelvin,celcuis))\n",
    "kelvin_"
   ]
  },
  {
   "cell_type": "code",
   "execution_count": 45,
   "id": "7ba48e0f",
   "metadata": {},
   "outputs": [
    {
     "data": {
      "text/plain": [
       "[296, 327, 305, 360, 327, 285, 318, 307]"
      ]
     },
     "execution_count": 45,
     "metadata": {},
     "output_type": "execute_result"
    }
   ],
   "source": [
    "#map(func,collect)\n",
    "celcuis=[23,54,32,87,54,12,45,34]\n",
    "kelvin_=list(map(lambda x:x+273,celcuis))\n",
    "kelvin_"
   ]
  },
  {
   "cell_type": "code",
   "execution_count": 49,
   "id": "e91fa0b4",
   "metadata": {},
   "outputs": [],
   "source": [
    "def fahrenhiet(n):\n",
    "    return (n * 9/5) + 32 "
   ]
  },
  {
   "cell_type": "code",
   "execution_count": 52,
   "id": "f780d05c",
   "metadata": {},
   "outputs": [
    {
     "data": {
      "text/plain": [
       "[73.4, 129.2, 89.6, 188.6, 129.2, 53.6, 113.0, 93.2]"
      ]
     },
     "execution_count": 52,
     "metadata": {},
     "output_type": "execute_result"
    }
   ],
   "source": [
    "#convert celcius to fahrenhiet\n",
    "\n",
    "celcuis=[23,54,32,87,54,12,45,34]\n",
    "fahrenhiet=list(map(lambda x:x*(1.8)+32,celcuis))\n",
    "fahrenhiet"
   ]
  },
  {
   "cell_type": "code",
   "execution_count": 54,
   "id": "73245d45",
   "metadata": {},
   "outputs": [],
   "source": [
    "import random\n",
    "event=[random.randint(15,70) for i in range(100)]\n"
   ]
  },
  {
   "cell_type": "code",
   "execution_count": 55,
   "id": "f653b360",
   "metadata": {},
   "outputs": [],
   "source": [
    "def entry(n):\n",
    "    return n>=21"
   ]
  },
  {
   "cell_type": "code",
   "execution_count": 57,
   "id": "d6742035",
   "metadata": {},
   "outputs": [
    {
     "data": {
      "text/plain": [
       "False"
      ]
     },
     "execution_count": 57,
     "metadata": {},
     "output_type": "execute_result"
    }
   ],
   "source": [
    "entry(20)"
   ]
  },
  {
   "cell_type": "code",
   "execution_count": 56,
   "id": "be1923aa",
   "metadata": {},
   "outputs": [
    {
     "data": {
      "text/plain": [
       "[40,\n",
       " 48,\n",
       " 22,\n",
       " 50,\n",
       " 43,\n",
       " 70,\n",
       " 63,\n",
       " 62,\n",
       " 31,\n",
       " 53,\n",
       " 59,\n",
       " 61,\n",
       " 66,\n",
       " 57,\n",
       " 54,\n",
       " 36,\n",
       " 63,\n",
       " 43,\n",
       " 44,\n",
       " 36,\n",
       " 58,\n",
       " 68,\n",
       " 59,\n",
       " 51,\n",
       " 28,\n",
       " 67,\n",
       " 52,\n",
       " 22,\n",
       " 55,\n",
       " 21,\n",
       " 59,\n",
       " 67,\n",
       " 26,\n",
       " 30,\n",
       " 21,\n",
       " 43,\n",
       " 52,\n",
       " 45,\n",
       " 67,\n",
       " 53,\n",
       " 22,\n",
       " 48,\n",
       " 26,\n",
       " 64,\n",
       " 66,\n",
       " 34,\n",
       " 54,\n",
       " 21,\n",
       " 56,\n",
       " 26,\n",
       " 62,\n",
       " 28,\n",
       " 27,\n",
       " 40,\n",
       " 46,\n",
       " 63,\n",
       " 29,\n",
       " 51,\n",
       " 63,\n",
       " 48,\n",
       " 66,\n",
       " 43,\n",
       " 70,\n",
       " 59,\n",
       " 63,\n",
       " 69,\n",
       " 33,\n",
       " 49,\n",
       " 30,\n",
       " 22,\n",
       " 67,\n",
       " 39,\n",
       " 42,\n",
       " 30,\n",
       " 64,\n",
       " 54,\n",
       " 27,\n",
       " 35,\n",
       " 37,\n",
       " 70,\n",
       " 29,\n",
       " 42,\n",
       " 66]"
      ]
     },
     "execution_count": 56,
     "metadata": {},
     "output_type": "execute_result"
    }
   ],
   "source": [
    "permitted=list(filter(entry,event))\n",
    "permitted"
   ]
  },
  {
   "cell_type": "code",
   "execution_count": 58,
   "id": "0c00a64e",
   "metadata": {},
   "outputs": [
    {
     "data": {
      "text/plain": [
       "[40,\n",
       " 48,\n",
       " 22,\n",
       " 50,\n",
       " 43,\n",
       " 70,\n",
       " 63,\n",
       " 62,\n",
       " 31,\n",
       " 53,\n",
       " 59,\n",
       " 61,\n",
       " 66,\n",
       " 57,\n",
       " 54,\n",
       " 36,\n",
       " 63,\n",
       " 43,\n",
       " 44,\n",
       " 36,\n",
       " 58,\n",
       " 68,\n",
       " 59,\n",
       " 51,\n",
       " 28,\n",
       " 67,\n",
       " 52,\n",
       " 22,\n",
       " 55,\n",
       " 21,\n",
       " 59,\n",
       " 67,\n",
       " 26,\n",
       " 30,\n",
       " 21,\n",
       " 43,\n",
       " 52,\n",
       " 45,\n",
       " 67,\n",
       " 53,\n",
       " 22,\n",
       " 48,\n",
       " 26,\n",
       " 64,\n",
       " 66,\n",
       " 34,\n",
       " 54,\n",
       " 21,\n",
       " 56,\n",
       " 26,\n",
       " 62,\n",
       " 28,\n",
       " 27,\n",
       " 40,\n",
       " 46,\n",
       " 63,\n",
       " 29,\n",
       " 51,\n",
       " 63,\n",
       " 48,\n",
       " 66,\n",
       " 43,\n",
       " 70,\n",
       " 59,\n",
       " 63,\n",
       " 69,\n",
       " 33,\n",
       " 49,\n",
       " 30,\n",
       " 22,\n",
       " 67,\n",
       " 39,\n",
       " 42,\n",
       " 30,\n",
       " 64,\n",
       " 54,\n",
       " 27,\n",
       " 35,\n",
       " 37,\n",
       " 70,\n",
       " 29,\n",
       " 42,\n",
       " 66]"
      ]
     },
     "execution_count": 58,
     "metadata": {},
     "output_type": "execute_result"
    }
   ],
   "source": [
    "permitted=list(filter(lambda x:x>=21,event))\n",
    "permitted"
   ]
  },
  {
   "cell_type": "code",
   "execution_count": null,
   "id": "72c194a6",
   "metadata": {},
   "outputs": [],
   "source": [
    "#Filter\n",
    "#filter(function,datastructure)"
   ]
  }
 ],
 "metadata": {
  "kernelspec": {
   "display_name": "Python 3 (ipykernel)",
   "language": "python",
   "name": "python3"
  },
  "language_info": {
   "codemirror_mode": {
    "name": "ipython",
    "version": 3
   },
   "file_extension": ".py",
   "mimetype": "text/x-python",
   "name": "python",
   "nbconvert_exporter": "python",
   "pygments_lexer": "ipython3",
   "version": "3.9.13"
  },
  "nbTranslate": {
   "displayLangs": [
    "*"
   ],
   "hotkey": "alt-t",
   "langInMainMenu": true,
   "sourceLang": "en",
   "targetLang": "fr",
   "useGoogleTranslate": true
  }
 },
 "nbformat": 4,
 "nbformat_minor": 5
}
