{
 "cells": [
  {
   "cell_type": "code",
   "execution_count": 3,
   "id": "2776514a",
   "metadata": {},
   "outputs": [
    {
     "name": "stdout",
     "output_type": "stream",
     "text": [
      "first number is:9\n",
      "second number is:6\n",
      "the addition of 9 and 6 is 15.0\n"
     ]
    }
   ],
   "source": [
    "num1=input('first number is:')\n",
    "num2=input('second number is:')\n",
    "sum=float(num1)+float(num2)\n",
    "print(\"the addition of {0} and {1} is {2}\".format(num1,num2,sum))"
   ]
  },
  {
   "cell_type": "code",
   "execution_count": 5,
   "id": "038fef2f",
   "metadata": {},
   "outputs": [
    {
     "data": {
      "text/plain": [
       "[1, 2, 4]"
      ]
     },
     "execution_count": 5,
     "metadata": {},
     "output_type": "execute_result"
    }
   ],
   "source": [
    "nums = [1,2,3,4]\n",
    "nums.remove(3)\n",
    "nums"
   ]
  },
  {
   "cell_type": "code",
   "execution_count": 7,
   "id": "6efb1cea",
   "metadata": {},
   "outputs": [
    {
     "data": {
      "text/plain": [
       "[1, 2, 4]"
      ]
     },
     "execution_count": 7,
     "metadata": {},
     "output_type": "execute_result"
    }
   ],
   "source": [
    "nums = [1,2,3,4]\n",
    "nums.pop(2)\n",
    "nums"
   ]
  },
  {
   "cell_type": "code",
   "execution_count": 11,
   "id": "96975c63",
   "metadata": {},
   "outputs": [
    {
     "data": {
      "text/plain": [
       "[1, 2, 4]"
      ]
     },
     "execution_count": 11,
     "metadata": {},
     "output_type": "execute_result"
    }
   ],
   "source": [
    "nums = [1,2,3,4]\n",
    "del(nums[2])\n",
    "nums"
   ]
  },
  {
   "cell_type": "code",
   "execution_count": 20,
   "id": "ca88fe70",
   "metadata": {},
   "outputs": [
    {
     "data": {
      "text/plain": [
       "[1, 2, 3, 4]"
      ]
     },
     "execution_count": 20,
     "metadata": {},
     "output_type": "execute_result"
    }
   ],
   "source": [
    "lst = [2,3,4]\n",
    "lst.insert(0,1)\n",
    "lst"
   ]
  },
  {
   "cell_type": "code",
   "execution_count": 41,
   "id": "d6dd3174",
   "metadata": {},
   "outputs": [
    {
     "name": "stdout",
     "output_type": "stream",
     "text": [
      "['D', 'o', 'n', \"'\", 't', ' ', 'p', 'a', 'n', 'i', 'c', '!']\n"
     ]
    },
    {
     "data": {
      "text/plain": [
       "['D', 'o', 'n', 't', ' ', 'p', 'a', 'n', 'i', 'c']"
      ]
     },
     "execution_count": 41,
     "metadata": {},
     "output_type": "execute_result"
    }
   ],
   "source": [
    "phrase = \"Don't panic!\"\n",
    "phrase1=list(phrase)\n",
    "print(phrase1)\n",
    "phrase1.remove(\"'\")\n",
    "phrase1.remove(\"!\")\n",
    "phrase1"
   ]
  },
  {
   "cell_type": "code",
   "execution_count": null,
   "id": "5c70135e",
   "metadata": {},
   "outputs": [],
   "source": [
    "#Remove \"p\" , \"a\", \"n\",\"D\" and extend at the last\n",
    "\n"
   ]
  },
  {
   "cell_type": "code",
   "execution_count": 48,
   "id": "9126bf8a",
   "metadata": {},
   "outputs": [
    {
     "data": {
      "text/plain": [
       "'panDa'"
      ]
     },
     "execution_count": 48,
     "metadata": {},
     "output_type": "execute_result"
    }
   ],
   "source": [
    "#%%javascriptoin the given list ['p', 'a', 'n', 'D', 'a']\n"
   ]
  },
  {
   "cell_type": "code",
   "execution_count": 60,
   "id": "ae96b2f8",
   "metadata": {},
   "outputs": [
    {
     "name": "stdout",
     "output_type": "stream",
     "text": [
      "['o', 't', ' ', 'n', 'i', 'c']\n",
      "['o', 't', ' ', 'n', 'i', 'c', 'p', 'a', 'n', 'D']\n"
     ]
    }
   ],
   "source": [
    "#Remove \"p\" , \"a\", \"n\",\"D\" and extend at the last\n",
    "a=['D', 'o', 'n', 't', ' ', 'p', 'a', 'n', 'i', 'c']\n",
    "a.remove('p')\n",
    "a.remove('a')\n",
    "a.remove('n')\n",
    "a.remove('D')\n",
    "print(a)\n",
    "b=['p' , 'a', 'n','D']\n",
    "a.extend(b)\n",
    "print(a)"
   ]
  },
  {
   "cell_type": "code",
   "execution_count": 68,
   "id": "ea67cb7b",
   "metadata": {},
   "outputs": [
    {
     "name": "stdout",
     "output_type": "stream",
     "text": [
      "<class 'tuple'>\n",
      "(31, 24, 35, 85)\n"
     ]
    }
   ],
   "source": [
    "a=(31,24,35,85)\n",
    "print(type(a))\n",
    "print(a)"
   ]
  },
  {
   "cell_type": "code",
   "execution_count": 72,
   "id": "95973025",
   "metadata": {},
   "outputs": [
    {
     "name": "stdout",
     "output_type": "stream",
     "text": [
      "[31, 24, 85]\n"
     ]
    }
   ],
   "source": [
    "b=list(a)\n",
    "b.remove(35)\n",
    "print(b)"
   ]
  },
  {
   "cell_type": "code",
   "execution_count": 75,
   "id": "7d62c0a1",
   "metadata": {},
   "outputs": [
    {
     "data": {
      "text/plain": [
       "(1, 2, 3, 4)"
      ]
     },
     "execution_count": 75,
     "metadata": {},
     "output_type": "execute_result"
    }
   ],
   "source": [
    "tpl = (1,2,3)+(4,)\n",
    "tpl"
   ]
  },
  {
   "cell_type": "code",
   "execution_count": 1,
   "id": "2fc29c50",
   "metadata": {},
   "outputs": [],
   "source": [
    "def books():\n",
    "    try:\n",
    "        file=open('books.txt','a')\n",
    "        while True:\n",
    "            value=input(f'''Enter the details in following format \\n enter sbn ''')\n",
    "            if value=='done':break\n",
    "            else:\n",
    "                file.write(f'{value}\\n')\n",
    "    finally:\n",
    "        file.close()"
   ]
  },
  {
   "cell_type": "code",
   "execution_count": 2,
   "id": "e2a4bed1",
   "metadata": {},
   "outputs": [
    {
     "name": "stdout",
     "output_type": "stream",
     "text": [
      "Enter the details in following format \n",
      " enter sbn author\n",
      "Enter the details in following format \n",
      " enter sbn au\n",
      "Enter the details in following format \n",
      " enter sbn done\n"
     ]
    }
   ],
   "source": [
    "books()"
   ]
  },
  {
   "cell_type": "code",
   "execution_count": null,
   "id": "1c98ad5c",
   "metadata": {},
   "outputs": [],
   "source": [
    "def search():\n",
    "    inp=input(f'Select the relevant option\\nEnter 1 to search book with author\\nEnter 2 to search book name\\nenter 3 to search ISBN number')\n",
    "    if inp=='1':\n",
    "        value=input('enter author name:').lower()\n",
    "    elif inp=='2':\n",
    "        value=input('enter book name:').lower()\n",
    "    elif inp=='3':\n",
    "        value=input('enter ISBN number:').lower()\n",
    "    else:\n",
    "        print('wrong number try again.')\n",
    "        \n",
    "    file=open('books_records.txt')\n",
    "    \n",
    "    books=[]\n",
    "    for i in file:\n",
    "        if value in i.lower():\n",
    "            books.append(i.strip())\n",
    "    if len(books)>=1:\n",
    "        return books\n",
    "    else:\n",
    "        return 'No records found'"
   ]
  },
  {
   "cell_type": "code",
   "execution_count": null,
   "id": "3a6609f2",
   "metadata": {},
   "outputs": [],
   "source": [
    "search()"
   ]
  },
  {
   "cell_type": "code",
   "execution_count": null,
   "id": "01c74741",
   "metadata": {},
   "outputs": [],
   "source": []
  }
 ],
 "metadata": {
  "kernelspec": {
   "display_name": "Python 3 (ipykernel)",
   "language": "python",
   "name": "python3"
  },
  "language_info": {
   "codemirror_mode": {
    "name": "ipython",
    "version": 3
   },
   "file_extension": ".py",
   "mimetype": "text/x-python",
   "name": "python",
   "nbconvert_exporter": "python",
   "pygments_lexer": "ipython3",
   "version": "3.9.13"
  },
  "nbTranslate": {
   "displayLangs": [
    "*"
   ],
   "hotkey": "alt-t",
   "langInMainMenu": true,
   "sourceLang": "en",
   "targetLang": "fr",
   "useGoogleTranslate": true
  }
 },
 "nbformat": 4,
 "nbformat_minor": 5
}
