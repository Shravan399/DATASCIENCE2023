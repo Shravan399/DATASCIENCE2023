{
 "cells": [
  {
   "cell_type": "code",
   "execution_count": 1,
   "id": "3a46b70b",
   "metadata": {},
   "outputs": [],
   "source": [
    "class Dog:\n",
    "    att1='hi'\n",
    "    att2=\"hello\""
   ]
  },
  {
   "cell_type": "code",
   "execution_count": 2,
   "id": "3b3e0eee",
   "metadata": {},
   "outputs": [],
   "source": [
    "var=Dog()"
   ]
  },
  {
   "cell_type": "code",
   "execution_count": 3,
   "id": "495d4c72",
   "metadata": {},
   "outputs": [
    {
     "data": {
      "text/plain": [
       "'hi'"
      ]
     },
     "execution_count": 3,
     "metadata": {},
     "output_type": "execute_result"
    }
   ],
   "source": [
    "var.att1"
   ]
  },
  {
   "cell_type": "code",
   "execution_count": 4,
   "id": "5d7c3b8f",
   "metadata": {},
   "outputs": [
    {
     "data": {
      "text/plain": [
       "str"
      ]
     },
     "execution_count": 4,
     "metadata": {},
     "output_type": "execute_result"
    }
   ],
   "source": [
    "type('Str')"
   ]
  },
  {
   "cell_type": "code",
   "execution_count": 10,
   "id": "be564958",
   "metadata": {},
   "outputs": [],
   "source": [
    "class Dog:\n",
    "    att1='hi'\n",
    "    att2=\"hello\"\n",
    "    \n",
    "    def bark(self):\n",
    "        print('Bark')\n",
    "        \n",
    "#Walk method\n",
    "    def walk(self):\n",
    "        print(\"dog is\")"
   ]
  },
  {
   "cell_type": "code",
   "execution_count": 11,
   "id": "5248d00d",
   "metadata": {},
   "outputs": [],
   "source": [
    "var=Dog()"
   ]
  },
  {
   "cell_type": "code",
   "execution_count": 12,
   "id": "59e339dd",
   "metadata": {},
   "outputs": [
    {
     "name": "stdout",
     "output_type": "stream",
     "text": [
      "Bark\n"
     ]
    }
   ],
   "source": [
    "var.bark()"
   ]
  },
  {
   "cell_type": "code",
   "execution_count": 13,
   "id": "7b965497",
   "metadata": {},
   "outputs": [
    {
     "name": "stdout",
     "output_type": "stream",
     "text": [
      "dog is\n"
     ]
    }
   ],
   "source": [
    "var.walk()"
   ]
  },
  {
   "cell_type": "code",
   "execution_count": 15,
   "id": "ee0c8011",
   "metadata": {},
   "outputs": [],
   "source": [
    "class cat:\n",
    "\n",
    "    def meow(self):\n",
    "        print('meow')"
   ]
  },
  {
   "cell_type": "code",
   "execution_count": 16,
   "id": "61ce4ab0",
   "metadata": {},
   "outputs": [],
   "source": [
    "Cat=cat()"
   ]
  },
  {
   "cell_type": "code",
   "execution_count": 17,
   "id": "c27d07f2",
   "metadata": {},
   "outputs": [
    {
     "name": "stdout",
     "output_type": "stream",
     "text": [
      "meow\n"
     ]
    }
   ],
   "source": [
    "Cat.meow()"
   ]
  },
  {
   "cell_type": "code",
   "execution_count": 19,
   "id": "b0aa0747",
   "metadata": {},
   "outputs": [],
   "source": [
    "class cricket:\n",
    "    \"\"\"CRICKET MATCHES\"\"\"\n",
    "    def matches(self):\n",
    "        print(\"playing matches\")"
   ]
  },
  {
   "cell_type": "code",
   "execution_count": 20,
   "id": "3e5f0f4d",
   "metadata": {},
   "outputs": [],
   "source": [
    "Game=cricket()"
   ]
  },
  {
   "cell_type": "code",
   "execution_count": 21,
   "id": "ff390be5",
   "metadata": {},
   "outputs": [
    {
     "name": "stdout",
     "output_type": "stream",
     "text": [
      "playing matches\n"
     ]
    }
   ],
   "source": [
    "Game.matches()"
   ]
  },
  {
   "cell_type": "code",
   "execution_count": 22,
   "id": "4412ee2b",
   "metadata": {},
   "outputs": [],
   "source": [
    "#__init__\n",
    "class pen:\n",
    "    def __init__(self,name,breed):\n",
    "        self.legs=4\n",
    "        self.tail=1 \n",
    "        self.name=name\n",
    "        self.breed=breed\n",
    "        "
   ]
  },
  {
   "cell_type": "code",
   "execution_count": 24,
   "id": "0f391acd",
   "metadata": {},
   "outputs": [],
   "source": [
    "Material=pen(name='ALSKA',breed='husky')"
   ]
  },
  {
   "cell_type": "code",
   "execution_count": 34,
   "id": "b98f0e44",
   "metadata": {},
   "outputs": [
    {
     "data": {
      "text/plain": [
       "4"
      ]
     },
     "execution_count": 34,
     "metadata": {},
     "output_type": "execute_result"
    }
   ],
   "source": [
    "Material.legs"
   ]
  },
  {
   "cell_type": "code",
   "execution_count": 31,
   "id": "78822359",
   "metadata": {},
   "outputs": [],
   "source": []
  },
  {
   "cell_type": "code",
   "execution_count": 32,
   "id": "09e1a6d0",
   "metadata": {},
   "outputs": [
    {
     "ename": "TypeError",
     "evalue": "__init__() missing 2 required positional arguments: 'name' and 'breed'",
     "output_type": "error",
     "traceback": [
      "\u001b[1;31m---------------------------------------------------------------------------\u001b[0m",
      "\u001b[1;31mTypeError\u001b[0m                                 Traceback (most recent call last)",
      "\u001b[1;32m~\\AppData\\Local\\Temp\\ipykernel_19272\\104726024.py\u001b[0m in \u001b[0;36m<module>\u001b[1;34m\u001b[0m\n\u001b[1;32m----> 1\u001b[1;33m \u001b[0mMaterial\u001b[0m\u001b[1;33m=\u001b[0m\u001b[0mpen\u001b[0m\u001b[1;33m(\u001b[0m\u001b[1;33m)\u001b[0m\u001b[1;33m\u001b[0m\u001b[1;33m\u001b[0m\u001b[0m\n\u001b[0m",
      "\u001b[1;31mTypeError\u001b[0m: __init__() missing 2 required positional arguments: 'name' and 'breed'"
     ]
    }
   ],
   "source": []
  },
  {
   "cell_type": "code",
   "execution_count": 37,
   "id": "cf85404c",
   "metadata": {},
   "outputs": [],
   "source": [
    "#inheritance\n",
    "\n",
    "class Animal:\n",
    "    def __init__(self,name,breed):\n",
    "        self.legs=4\n",
    "        self.tail=1 \n",
    "        self.name=name\n",
    "        self.breed=breed"
   ]
  },
  {
   "cell_type": "code",
   "execution_count": null,
   "id": "1c24c878",
   "metadata": {},
   "outputs": [],
   "source": [
    "class Dog(Animal):\n",
    "    def __init__(self,name,leg):\n",
    "        Animal.init_(self,breed,legs)\n",
    "        self.name=name\n",
    "        \n",
    "    def "
   ]
  }
 ],
 "metadata": {
  "kernelspec": {
   "display_name": "Python 3 (ipykernel)",
   "language": "python",
   "name": "python3"
  },
  "language_info": {
   "codemirror_mode": {
    "name": "ipython",
    "version": 3
   },
   "file_extension": ".py",
   "mimetype": "text/x-python",
   "name": "python",
   "nbconvert_exporter": "python",
   "pygments_lexer": "ipython3",
   "version": "3.9.13"
  },
  "nbTranslate": {
   "displayLangs": [
    "*"
   ],
   "hotkey": "alt-t",
   "langInMainMenu": true,
   "sourceLang": "en",
   "targetLang": "fr",
   "useGoogleTranslate": true
  }
 },
 "nbformat": 4,
 "nbformat_minor": 5
}
