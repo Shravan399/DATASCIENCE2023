{
 "cells": [
  {
   "cell_type": "markdown",
   "id": "39f8206d",
   "metadata": {},
   "source": [
    "# Strings"
   ]
  },
  {
   "cell_type": "markdown",
   "id": "16265861",
   "metadata": {},
   "source": [
    "This notebook is for string"
   ]
  },
  {
   "cell_type": "code",
   "execution_count": 1,
   "id": "aeba0858",
   "metadata": {},
   "outputs": [],
   "source": [
    "# using single inverted comma\n",
    "var='String'"
   ]
  },
  {
   "cell_type": "code",
   "execution_count": 4,
   "id": "4e67b5ab",
   "metadata": {},
   "outputs": [
    {
     "data": {
      "text/plain": [
       "'Hello World'"
      ]
     },
     "execution_count": 4,
     "metadata": {},
     "output_type": "execute_result"
    }
   ],
   "source": [
    "#MultiLine\n",
    "var1=\"\"\"Hello World\"\"\" \n",
    "var1"
   ]
  },
  {
   "cell_type": "code",
   "execution_count": 5,
   "id": "3633636f",
   "metadata": {},
   "outputs": [
    {
     "data": {
      "text/plain": [
       "'Hello \\nWorld'"
      ]
     },
     "execution_count": 5,
     "metadata": {},
     "output_type": "execute_result"
    }
   ],
   "source": [
    "var1=\"\"\"Hello \n",
    "World\"\"\"\n",
    "var1"
   ]
  },
  {
   "cell_type": "code",
   "execution_count": 2,
   "id": "f24feaa9",
   "metadata": {},
   "outputs": [
    {
     "data": {
      "text/plain": [
       "'Comments'"
      ]
     },
     "execution_count": 2,
     "metadata": {},
     "output_type": "execute_result"
    }
   ],
   "source": [
    "\"\"\"Comments\"\"\""
   ]
  },
  {
   "cell_type": "code",
   "execution_count": 8,
   "id": "1c181b93",
   "metadata": {},
   "outputs": [
    {
     "data": {
      "text/plain": [
       "\"Str'ing'\""
      ]
     },
     "execution_count": 8,
     "metadata": {},
     "output_type": "execute_result"
    }
   ],
   "source": [
    "# Double quoted\n",
    "# \"@str\\'str'\"\n",
    "var2=\"Str'ing'\"\n",
    "var2"
   ]
  },
  {
   "cell_type": "code",
   "execution_count": 18,
   "id": "2a9bc26e",
   "metadata": {},
   "outputs": [
    {
     "data": {
      "text/plain": [
       "50"
      ]
     },
     "execution_count": 18,
     "metadata": {},
     "output_type": "execute_result"
    }
   ],
   "source": [
    "#ASCII #UNICODE\n",
    "o=ord('2')\n",
    "o"
   ]
  },
  {
   "cell_type": "code",
   "execution_count": 12,
   "id": "6720f435",
   "metadata": {},
   "outputs": [
    {
     "data": {
      "text/plain": [
       "'0b1001100'"
      ]
     },
     "execution_count": 12,
     "metadata": {},
     "output_type": "execute_result"
    }
   ],
   "source": [
    "bin(76)"
   ]
  },
  {
   "cell_type": "code",
   "execution_count": 19,
   "id": "7e2fa7a5",
   "metadata": {},
   "outputs": [],
   "source": [
    "var='python programming'"
   ]
  },
  {
   "cell_type": "code",
   "execution_count": 20,
   "id": "d2b67025",
   "metadata": {},
   "outputs": [
    {
     "data": {
      "text/plain": [
       "'pyt'"
      ]
     },
     "execution_count": 20,
     "metadata": {},
     "output_type": "execute_result"
    }
   ],
   "source": [
    "var[0:3]"
   ]
  },
  {
   "cell_type": "code",
   "execution_count": 22,
   "id": "06aa9a76",
   "metadata": {},
   "outputs": [
    {
     "data": {
      "text/plain": [
       "'yhnpor'"
      ]
     },
     "execution_count": 22,
     "metadata": {},
     "output_type": "execute_result"
    }
   ],
   "source": [
    "# [start:end:steps]\n",
    "var[1:12:2]"
   ]
  },
  {
   "cell_type": "code",
   "execution_count": 23,
   "id": "4ba7b555",
   "metadata": {},
   "outputs": [
    {
     "data": {
      "text/plain": [
       "''"
      ]
     },
     "execution_count": 23,
     "metadata": {},
     "output_type": "execute_result"
    }
   ],
   "source": [
    "var[-1:-5]"
   ]
  },
  {
   "cell_type": "code",
   "execution_count": 24,
   "id": "23cb22bd",
   "metadata": {},
   "outputs": [
    {
     "data": {
      "text/plain": [
       "'gnimm'"
      ]
     },
     "execution_count": 24,
     "metadata": {},
     "output_type": "execute_result"
    }
   ],
   "source": [
    "var[-1:-6:-1]"
   ]
  },
  {
   "cell_type": "code",
   "execution_count": 25,
   "id": "888da8b7",
   "metadata": {},
   "outputs": [
    {
     "data": {
      "text/plain": [
       "'gimrop'"
      ]
     },
     "execution_count": 25,
     "metadata": {},
     "output_type": "execute_result"
    }
   ],
   "source": [
    "var[-1:-12:-2]"
   ]
  },
  {
   "cell_type": "code",
   "execution_count": 26,
   "id": "2059866f",
   "metadata": {},
   "outputs": [
    {
     "data": {
      "text/plain": [
       "'thon progr'"
      ]
     },
     "execution_count": 26,
     "metadata": {},
     "output_type": "execute_result"
    }
   ],
   "source": [
    "var[2:-6]"
   ]
  },
  {
   "cell_type": "code",
   "execution_count": 27,
   "id": "aa75f926",
   "metadata": {},
   "outputs": [
    {
     "data": {
      "text/plain": [
       "'ogramming'"
      ]
     },
     "execution_count": 27,
     "metadata": {},
     "output_type": "execute_result"
    }
   ],
   "source": [
    "var[-9:]"
   ]
  },
  {
   "cell_type": "code",
   "execution_count": 28,
   "id": "5b94737e",
   "metadata": {},
   "outputs": [
    {
     "data": {
      "text/plain": [
       "'pyth'"
      ]
     },
     "execution_count": 28,
     "metadata": {},
     "output_type": "execute_result"
    }
   ],
   "source": [
    "var[:4]"
   ]
  },
  {
   "cell_type": "code",
   "execution_count": 12,
   "id": "ed61a42f",
   "metadata": {},
   "outputs": [],
   "source": [
    "name='Bandi shravan'\n",
    "address=\"2-114,'kashettiwada jagtial'\"\n",
    "number='8886009033'"
   ]
  },
  {
   "cell_type": "code",
   "execution_count": 16,
   "id": "3df9dded",
   "metadata": {},
   "outputs": [
    {
     "name": "stdout",
     "output_type": "stream",
     "text": [
      "whats your first name? Bandi\n",
      "address of shravan is 2-114,'kashettiwada jagtial'\n",
      "contact of Shravan is 8886009033\n"
     ]
    }
   ],
   "source": [
    "#Slice to get first name\n",
    "\n",
    "print(\"whats your first name?\",name[0:5])\n",
    "print(\"address of shravan is\",address)\n",
    "print(\"contact of Shravan is\",number[0:11])\n"
   ]
  },
  {
   "cell_type": "code",
   "execution_count": 21,
   "id": "3250b778",
   "metadata": {},
   "outputs": [
    {
     "name": "stdout",
     "output_type": "stream",
     "text": [
      "whats your last name? shravan\n"
     ]
    }
   ],
   "source": [
    "print(\"whats your last name?\",name[6:13])"
   ]
  },
  {
   "cell_type": "code",
   "execution_count": 22,
   "id": "1822c99f",
   "metadata": {},
   "outputs": [
    {
     "name": "stdout",
     "output_type": "stream",
     "text": [
      "whats your door number? 2-114\n"
     ]
    }
   ],
   "source": [
    "print(\"whats your door number?\",address[0:5])"
   ]
  },
  {
   "cell_type": "code",
   "execution_count": 26,
   "id": "6f817162",
   "metadata": {},
   "outputs": [
    {
     "data": {
      "text/plain": [
       "\"2-114,'kashettiwada jagtial'\""
      ]
     },
     "execution_count": 26,
     "metadata": {},
     "output_type": "execute_result"
    }
   ],
   "source": [
    "address[:]"
   ]
  },
  {
   "cell_type": "code",
   "execution_count": 27,
   "id": "8427c249",
   "metadata": {},
   "outputs": [],
   "source": [
    "#operator\n",
    "#in\n",
    "#is\n",
    "#is not\n",
    "#not in"
   ]
  },
  {
   "cell_type": "code",
   "execution_count": 28,
   "id": "6f5949fe",
   "metadata": {},
   "outputs": [
    {
     "data": {
      "text/plain": [
       "True"
      ]
     },
     "execution_count": 28,
     "metadata": {},
     "output_type": "execute_result"
    }
   ],
   "source": [
    "'hello' in \"hello world\""
   ]
  },
  {
   "cell_type": "code",
   "execution_count": 30,
   "id": "c1e8b3e3",
   "metadata": {},
   "outputs": [
    {
     "data": {
      "text/plain": [
       "4"
      ]
     },
     "execution_count": 30,
     "metadata": {},
     "output_type": "execute_result"
    }
   ],
   "source": [
    "'idneruds'.index(\"r\")"
   ]
  },
  {
   "cell_type": "code",
   "execution_count": 1,
   "id": "a3fe860f",
   "metadata": {},
   "outputs": [
    {
     "data": {
      "text/plain": [
       "'INDIA'"
      ]
     },
     "execution_count": 1,
     "metadata": {},
     "output_type": "execute_result"
    }
   ],
   "source": [
    "# String Declaration\n",
    "var=\"india\"\n",
    "var.upper()"
   ]
  },
  {
   "cell_type": "code",
   "execution_count": 2,
   "id": "bea24c81",
   "metadata": {},
   "outputs": [
    {
     "data": {
      "text/plain": [
       "3"
      ]
     },
     "execution_count": 2,
     "metadata": {},
     "output_type": "execute_result"
    }
   ],
   "source": [
    "len('var')"
   ]
  },
  {
   "cell_type": "code",
   "execution_count": 3,
   "id": "90d69e0e",
   "metadata": {},
   "outputs": [
    {
     "data": {
      "text/plain": [
       "15"
      ]
     },
     "execution_count": 3,
     "metadata": {},
     "output_type": "execute_result"
    }
   ],
   "source": [
    "len('jldhsl iadhioud')"
   ]
  },
  {
   "cell_type": "code",
   "execution_count": 12,
   "id": "cfb7d63f",
   "metadata": {},
   "outputs": [
    {
     "data": {
      "text/plain": [
       "'India'"
      ]
     },
     "execution_count": 12,
     "metadata": {},
     "output_type": "execute_result"
    }
   ],
   "source": [
    "# Capitalize\n",
    "var='india'\n",
    "var.capitalize()"
   ]
  },
  {
   "cell_type": "code",
   "execution_count": 10,
   "id": "46c6c886",
   "metadata": {},
   "outputs": [
    {
     "data": {
      "text/plain": [
       "3"
      ]
     },
     "execution_count": 10,
     "metadata": {},
     "output_type": "execute_result"
    }
   ],
   "source": [
    "var=\"hi this is hi\"\n",
    "var.count('hi')"
   ]
  },
  {
   "cell_type": "code",
   "execution_count": 15,
   "id": "c80eb611",
   "metadata": {},
   "outputs": [
    {
     "name": "stdout",
     "output_type": "stream",
     "text": [
      "s index No: 0\n",
      "\n",
      "i index No: 1\n",
      "\n",
      "n index No: 2\n",
      "\n",
      "g index No: 3\n",
      "\n"
     ]
    }
   ],
   "source": [
    "#Loops\n",
    "varr='sing'\n",
    "for i in varr:\n",
    "    print(i,'index No:',varr.index(i))\n",
    "    print()"
   ]
  },
  {
   "cell_type": "code",
   "execution_count": 18,
   "id": "8fc7ab0c",
   "metadata": {},
   "outputs": [
    {
     "name": "stdout",
     "output_type": "stream",
     "text": [
      "1\n",
      "2\n",
      "3\n",
      "4\n",
      "5\n",
      "6\n",
      "7\n",
      "8\n",
      "9\n"
     ]
    }
   ],
   "source": [
    "for i in range(1,10,1):\n",
    "    print(i)"
   ]
  },
  {
   "cell_type": "code",
   "execution_count": 19,
   "id": "dbe54b03",
   "metadata": {},
   "outputs": [
    {
     "name": "stdout",
     "output_type": "stream",
     "text": [
      "0 i\n",
      "1 n\n",
      "2 d\n",
      "3 i\n",
      "4 a\n"
     ]
    }
   ],
   "source": [
    "#Enumerate\n",
    "for i,j in enumerate(var):\n",
    "    print(i,j)"
   ]
  },
  {
   "cell_type": "code",
   "execution_count": 23,
   "id": "d9defa53",
   "metadata": {},
   "outputs": [
    {
     "data": {
      "text/plain": [
       "'hi'"
      ]
     },
     "execution_count": 23,
     "metadata": {},
     "output_type": "execute_result"
    }
   ],
   "source": [
    "# Strip\n",
    "# Removing spaces\n",
    "\"         hi\".lstrip()"
   ]
  },
  {
   "cell_type": "code",
   "execution_count": 21,
   "id": "eaa51c16",
   "metadata": {},
   "outputs": [
    {
     "data": {
      "text/plain": [
       "'hi'"
      ]
     },
     "execution_count": 21,
     "metadata": {},
     "output_type": "execute_result"
    }
   ],
   "source": [
    "\"hi          \".rstrip()"
   ]
  },
  {
   "cell_type": "code",
   "execution_count": 22,
   "id": "9d4aa9e3",
   "metadata": {},
   "outputs": [
    {
     "data": {
      "text/plain": [
       "'hi'"
      ]
     },
     "execution_count": 22,
     "metadata": {},
     "output_type": "execute_result"
    }
   ],
   "source": [
    "\"   hi      \".strip()"
   ]
  },
  {
   "cell_type": "code",
   "execution_count": 24,
   "id": "0335e177",
   "metadata": {},
   "outputs": [],
   "source": [
    "var=\"\"\"\n",
    "From:xyz@abc.com\n",
    "Recieved:xyz@edu.com\n",
    "\"\"\""
   ]
  },
  {
   "cell_type": "code",
   "execution_count": 26,
   "id": "1dd4d7d2",
   "metadata": {},
   "outputs": [
    {
     "name": "stdout",
     "output_type": "stream",
     "text": [
      "what is your name?sALEM shaikh\n"
     ]
    }
   ],
   "source": [
    "a=input(\"what is your name?\")"
   ]
  },
  {
   "cell_type": "code",
   "execution_count": 27,
   "id": "85bae349",
   "metadata": {},
   "outputs": [
    {
     "data": {
      "text/plain": [
       "'sALEM shaikh'"
      ]
     },
     "execution_count": 27,
     "metadata": {},
     "output_type": "execute_result"
    }
   ],
   "source": [
    "a"
   ]
  },
  {
   "cell_type": "code",
   "execution_count": 33,
   "id": "b9c08f91",
   "metadata": {},
   "outputs": [
    {
     "data": {
      "text/plain": [
       "'Salem shaikh'"
      ]
     },
     "execution_count": 33,
     "metadata": {},
     "output_type": "execute_result"
    }
   ],
   "source": [
    "b=a.capitalize()\n",
    "b"
   ]
  },
  {
   "cell_type": "code",
   "execution_count": 34,
   "id": "8914679b",
   "metadata": {},
   "outputs": [
    {
     "data": {
      "text/plain": [
       "'salem shaikh'"
      ]
     },
     "execution_count": 34,
     "metadata": {},
     "output_type": "execute_result"
    }
   ],
   "source": [
    "b.lower()"
   ]
  },
  {
   "cell_type": "code",
   "execution_count": 36,
   "id": "7db3c865",
   "metadata": {},
   "outputs": [
    {
     "data": {
      "text/plain": [
       "'Salem shaikh'"
      ]
     },
     "execution_count": 36,
     "metadata": {},
     "output_type": "execute_result"
    }
   ],
   "source": [
    "b"
   ]
  },
  {
   "cell_type": "code",
   "execution_count": 43,
   "id": "8b1dd881",
   "metadata": {},
   "outputs": [
    {
     "data": {
      "text/plain": [
       "'Salem Shaikh'"
      ]
     },
     "execution_count": 43,
     "metadata": {},
     "output_type": "execute_result"
    }
   ],
   "source": [
    "b.title()"
   ]
  },
  {
   "cell_type": "code",
   "execution_count": 44,
   "id": "1db33253",
   "metadata": {},
   "outputs": [
    {
     "name": "stdout",
     "output_type": "stream",
     "text": [
      "what is your name?salem sHaikh\n",
      "salem sHaikh\n",
      "Salem shaikh\n"
     ]
    },
    {
     "data": {
      "text/plain": [
       "'Salem Shaikh'"
      ]
     },
     "execution_count": 44,
     "metadata": {},
     "output_type": "execute_result"
    }
   ],
   "source": [
    "a=input(\"what is your name?\")\n",
    "print(a)\n",
    "b=a.capitalize()\n",
    "print(b)\n",
    "b.lower()\n",
    "b.title()"
   ]
  },
  {
   "cell_type": "code",
   "execution_count": 45,
   "id": "78ac78f8",
   "metadata": {},
   "outputs": [
    {
     "name": "stdout",
     "output_type": "stream",
     "text": [
      "The animal\n",
      "is at zoo\n",
      "\n"
     ]
    }
   ],
   "source": [
    "a=\"\"\"The animal\n",
    "is at zoo\n",
    "\"\"\"\n",
    "print(a)"
   ]
  },
  {
   "cell_type": "code",
   "execution_count": 46,
   "id": "c0c0e93a",
   "metadata": {},
   "outputs": [
    {
     "data": {
      "text/plain": [
       "False"
      ]
     },
     "execution_count": 46,
     "metadata": {},
     "output_type": "execute_result"
    }
   ],
   "source": [
    "a.endswith('animal')"
   ]
  },
  {
   "cell_type": "code",
   "execution_count": 49,
   "id": "a1f5836c",
   "metadata": {},
   "outputs": [
    {
     "data": {
      "text/plain": [
       "'The animal\\nis at zoo'"
      ]
     },
     "execution_count": 49,
     "metadata": {},
     "output_type": "execute_result"
    }
   ],
   "source": [
    "a.strip()"
   ]
  },
  {
   "cell_type": "code",
   "execution_count": 50,
   "id": "f7d49e65",
   "metadata": {},
   "outputs": [
    {
     "data": {
      "text/plain": [
       "['The', 'animal', 'is', 'at', 'zoo']"
      ]
     },
     "execution_count": 50,
     "metadata": {},
     "output_type": "execute_result"
    }
   ],
   "source": [
    "a.split()"
   ]
  },
  {
   "cell_type": "code",
   "execution_count": 51,
   "id": "b338ab76",
   "metadata": {},
   "outputs": [
    {
     "data": {
      "text/plain": [
       "True"
      ]
     },
     "execution_count": 51,
     "metadata": {},
     "output_type": "execute_result"
    }
   ],
   "source": [
    "a.startswith('The')"
   ]
  },
  {
   "cell_type": "code",
   "execution_count": 56,
   "id": "46503984",
   "metadata": {},
   "outputs": [
    {
     "data": {
      "text/plain": [
       "['The animal', 'is at zoo']"
      ]
     },
     "execution_count": 56,
     "metadata": {},
     "output_type": "execute_result"
    }
   ],
   "source": [
    "b=a.splitlines()\n",
    "b"
   ]
  },
  {
   "cell_type": "code",
   "execution_count": 58,
   "id": "d7e453bd",
   "metadata": {},
   "outputs": [
    {
     "data": {
      "text/plain": [
       "'thas as alias'"
      ]
     },
     "execution_count": 58,
     "metadata": {},
     "output_type": "execute_result"
    }
   ],
   "source": [
    "#Replace\n",
    "c=\"this is alias\"\n",
    "c.replace('is','as')"
   ]
  },
  {
   "cell_type": "code",
   "execution_count": 61,
   "id": "6c5eb7a9",
   "metadata": {},
   "outputs": [
    {
     "name": "stdout",
     "output_type": "stream",
     "text": [
      "enter name shravan\n",
      "name: shravan age\n"
     ]
    }
   ],
   "source": [
    "#formatted string\n",
    "name=input(\"enter name \")\n",
    "print(f\"name: {name} age\")"
   ]
  },
  {
   "cell_type": "code",
   "execution_count": 66,
   "id": "1f9c0918",
   "metadata": {},
   "outputs": [
    {
     "name": "stdout",
     "output_type": "stream",
     "text": [
      "enter your name?  Shravan\n",
      "Shravan\n",
      "Shravan\n",
      "Shravan\n",
      "Shravan\n",
      "Shravan\n",
      "Shravan\n",
      "Shravan\n",
      "Shravan\n",
      "Shravan\n",
      "Shravan\n"
     ]
    }
   ],
   "source": [
    "#WAP to input from user 10 times and print the output\n",
    "\n",
    "name=input(\"enter your name?  \")\n",
    "for i in range(0,10):\n",
    "    print(name)"
   ]
  },
  {
   "cell_type": "code",
   "execution_count": 78,
   "id": "560932ad",
   "metadata": {},
   "outputs": [
    {
     "data": {
      "text/plain": [
       "8"
      ]
     },
     "execution_count": 78,
     "metadata": {},
     "output_type": "execute_result"
    }
   ],
   "source": [
    "d=\"thid id \"\n",
    "len(d)"
   ]
  },
  {
   "cell_type": "code",
   "execution_count": null,
   "id": "60b89979",
   "metadata": {},
   "outputs": [],
   "source": []
  }
 ],
 "metadata": {
  "kernelspec": {
   "display_name": "Python 3 (ipykernel)",
   "language": "python",
   "name": "python3"
  },
  "language_info": {
   "codemirror_mode": {
    "name": "ipython",
    "version": 3
   },
   "file_extension": ".py",
   "mimetype": "text/x-python",
   "name": "python",
   "nbconvert_exporter": "python",
   "pygments_lexer": "ipython3",
   "version": "3.9.13"
  }
 },
 "nbformat": 4,
 "nbformat_minor": 5
}
