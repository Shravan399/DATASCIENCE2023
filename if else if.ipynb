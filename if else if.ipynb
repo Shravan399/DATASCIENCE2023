{
 "cells": [
  {
   "cell_type": "code",
   "execution_count": null,
   "id": "31276c88",
   "metadata": {},
   "outputs": [],
   "source": []
  },
  {
   "cell_type": "code",
   "execution_count": null,
   "id": "01a9196a",
   "metadata": {},
   "outputs": [],
   "source": [
    "x='string'\n",
    "if i in 'string':\n",
    "    print('i is there in string')\n",
    "    "
   ]
  },
  {
   "cell_type": "code",
   "execution_count": 1,
   "id": "747d6596",
   "metadata": {},
   "outputs": [
    {
     "name": "stdout",
     "output_type": "stream",
     "text": [
      "equal\n"
     ]
    }
   ],
   "source": [
    "if 1>7:\n",
    "    print('less')\n",
    "elif 1==1:\n",
    "    print('equal')"
   ]
  },
  {
   "cell_type": "code",
   "execution_count": 2,
   "id": "1cb3bec7",
   "metadata": {},
   "outputs": [
    {
     "name": "stdout",
     "output_type": "stream",
     "text": [
      "less\n"
     ]
    }
   ],
   "source": [
    "if 1<7:\n",
    "    print('less')\n",
    "elif 1==1:\n",
    "    print('equal')"
   ]
  },
  {
   "cell_type": "code",
   "execution_count": 3,
   "id": "009bff5c",
   "metadata": {},
   "outputs": [],
   "source": [
    "#wap for passing the exam if the students meets the cutoff using 'if' condition"
   ]
  },
  {
   "cell_type": "code",
   "execution_count": 5,
   "id": "a54c1f81",
   "metadata": {},
   "outputs": [
    {
     "name": "stdout",
     "output_type": "stream",
     "text": [
      "fail\n"
     ]
    }
   ],
   "source": [
    "if 35>100:\n",
    "    print('pass')\n",
    "else:\n",
    "    print('fail')\n",
    "    "
   ]
  },
  {
   "cell_type": "code",
   "execution_count": 6,
   "id": "97f7e448",
   "metadata": {},
   "outputs": [
    {
     "name": "stdout",
     "output_type": "stream",
     "text": [
      "55\n",
      "35\n",
      "student is pased\n"
     ]
    }
   ],
   "source": [
    "marks=input('')\n",
    "cutoff=input('')\n",
    "if marks>cutoff:\n",
    "    print('student is pased')\n",
    "else:\n",
    "    print('student is failed')"
   ]
  },
  {
   "cell_type": "code",
   "execution_count": null,
   "id": "d28fabf9",
   "metadata": {},
   "outputs": [],
   "source": []
  }
 ],
 "metadata": {
  "kernelspec": {
   "display_name": "Python 3 (ipykernel)",
   "language": "python",
   "name": "python3"
  },
  "language_info": {
   "codemirror_mode": {
    "name": "ipython",
    "version": 3
   },
   "file_extension": ".py",
   "mimetype": "text/x-python",
   "name": "python",
   "nbconvert_exporter": "python",
   "pygments_lexer": "ipython3",
   "version": "3.9.13"
  },
  "nbTranslate": {
   "displayLangs": [
    "*"
   ],
   "hotkey": "alt-t",
   "langInMainMenu": true,
   "sourceLang": "en",
   "targetLang": "fr",
   "useGoogleTranslate": true
  }
 },
 "nbformat": 4,
 "nbformat_minor": 5
}
