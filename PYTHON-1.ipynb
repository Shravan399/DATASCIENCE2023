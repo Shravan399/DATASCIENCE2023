{
 "cells": [
  {
   "cell_type": "markdown",
   "id": "a6c1c07f",
   "metadata": {},
   "source": [
    "# VARIABLES"
   ]
  },
  {
   "cell_type": "code",
   "execution_count": 3,
   "id": "e820e057",
   "metadata": {},
   "outputs": [
    {
     "data": {
      "text/plain": [
       "1"
      ]
     },
     "execution_count": 3,
     "metadata": {},
     "output_type": "execute_result"
    }
   ],
   "source": [
    "var=1\n",
    "Var=2\n",
    "var\n"
   ]
  },
  {
   "cell_type": "code",
   "execution_count": 4,
   "id": "b884c8f4",
   "metadata": {},
   "outputs": [
    {
     "data": {
      "text/plain": [
       "2"
      ]
     },
     "execution_count": 4,
     "metadata": {},
     "output_type": "execute_result"
    }
   ],
   "source": [
    "Var"
   ]
  },
  {
   "cell_type": "code",
   "execution_count": 5,
   "id": "74e92c71",
   "metadata": {},
   "outputs": [
    {
     "name": "stdout",
     "output_type": "stream",
     "text": [
      "enter your nameshravan\n"
     ]
    }
   ],
   "source": [
    "var=input(\"enter your name\")"
   ]
  },
  {
   "cell_type": "code",
   "execution_count": 6,
   "id": "c7f8f434",
   "metadata": {},
   "outputs": [
    {
     "data": {
      "text/plain": [
       "'shravan'"
      ]
     },
     "execution_count": 6,
     "metadata": {},
     "output_type": "execute_result"
    }
   ],
   "source": [
    "var"
   ]
  },
  {
   "cell_type": "code",
   "execution_count": 9,
   "id": "432fad19",
   "metadata": {},
   "outputs": [
    {
     "name": "stdout",
     "output_type": "stream",
     "text": [
      "king\n"
     ]
    }
   ],
   "source": [
    "print(\"king\")"
   ]
  },
  {
   "cell_type": "code",
   "execution_count": 10,
   "id": "f958949e",
   "metadata": {},
   "outputs": [
    {
     "name": "stdout",
     "output_type": "stream",
     "text": [
      "shravan\n"
     ]
    }
   ],
   "source": [
    "print(var)"
   ]
  },
  {
   "cell_type": "code",
   "execution_count": 11,
   "id": "b26c3a2e",
   "metadata": {},
   "outputs": [
    {
     "data": {
      "text/plain": [
       "('shravan', 234, 'hfksd')"
      ]
     },
     "execution_count": 11,
     "metadata": {},
     "output_type": "execute_result"
    }
   ],
   "source": [
    "id=(var,234,\"hfksd\")\n",
    "id"
   ]
  },
  {
   "cell_type": "code",
   "execution_count": 13,
   "id": "3db8de61",
   "metadata": {},
   "outputs": [
    {
     "name": "stdout",
     "output_type": "stream",
     "text": [
      "1 2\n"
     ]
    }
   ],
   "source": [
    "print(1, end=\" \")\n",
    "print(2)"
   ]
  },
  {
   "cell_type": "code",
   "execution_count": 14,
   "id": "3e41673c",
   "metadata": {},
   "outputs": [
    {
     "name": "stdout",
     "output_type": "stream",
     "text": [
      "1*2\n"
     ]
    }
   ],
   "source": [
    "print(1, end=\"*\")\n",
    "print(2)"
   ]
  },
  {
   "cell_type": "code",
   "execution_count": 19,
   "id": "5729ebb3",
   "metadata": {},
   "outputs": [
    {
     "name": "stdout",
     "output_type": "stream",
     "text": [
      ";*2\n",
      "\\][.]*3\n"
     ]
    }
   ],
   "source": [
    "print(\";\", end=\"*\")\n",
    "print(2)\n",
    "print(\"\\][.]\", end=\"*\")\n",
    "print(3)"
   ]
  },
  {
   "cell_type": "code",
   "execution_count": 1,
   "id": "373f6afd",
   "metadata": {},
   "outputs": [],
   "source": [
    "var=15"
   ]
  },
  {
   "cell_type": "code",
   "execution_count": 2,
   "id": "f9d7e43a",
   "metadata": {},
   "outputs": [
    {
     "data": {
      "text/plain": [
       "'sting'"
      ]
     },
     "execution_count": 2,
     "metadata": {},
     "output_type": "execute_result"
    }
   ],
   "source": [
    "'st'r'ing'"
   ]
  },
  {
   "cell_type": "code",
   "execution_count": 4,
   "id": "7ea5916f",
   "metadata": {},
   "outputs": [
    {
     "data": {
      "text/plain": [
       "'this is \\nable tyo \\nhave more'"
      ]
     },
     "execution_count": 4,
     "metadata": {},
     "output_type": "execute_result"
    }
   ],
   "source": [
    "\"\"\"this is \n",
    "able tyo \n",
    "have more\"\"\""
   ]
  },
  {
   "cell_type": "code",
   "execution_count": 7,
   "id": "632289fc",
   "metadata": {},
   "outputs": [
    {
     "data": {
      "text/plain": [
       "\"strin/'g'\""
      ]
     },
     "execution_count": 7,
     "metadata": {},
     "output_type": "execute_result"
    }
   ],
   "source": [
    "# speacial value\n",
    "\"strin/'g'\""
   ]
  },
  {
   "cell_type": "code",
   "execution_count": 10,
   "id": "cb93bc01",
   "metadata": {},
   "outputs": [
    {
     "data": {
      "text/plain": [
       "\"strin\\\\'g\""
      ]
     },
     "execution_count": 10,
     "metadata": {},
     "output_type": "execute_result"
    }
   ],
   "source": [
    "#using r we get double backslash\n",
    "#raw string for reading path\n",
    "r\"strin\\'g\""
   ]
  },
  {
   "cell_type": "code",
   "execution_count": 11,
   "id": "26c92c58",
   "metadata": {},
   "outputs": [
    {
     "data": {
      "text/plain": [
       "'my age is 23'"
      ]
     },
     "execution_count": 11,
     "metadata": {},
     "output_type": "execute_result"
    }
   ],
   "source": [
    "age=23\n",
    "f'my age is {age}'"
   ]
  },
  {
   "cell_type": "code",
   "execution_count": 12,
   "id": "119e2db3",
   "metadata": {},
   "outputs": [
    {
     "name": "stdout",
     "output_type": "stream",
     "text": [
      "lesser\n"
     ]
    }
   ],
   "source": [
    "#indentation\n",
    "\n",
    "if 1>2:\n",
    "    print(\"greater\")\n",
    "else:\n",
    "    print(\"lesser\")"
   ]
  },
  {
   "cell_type": "code",
   "execution_count": 14,
   "id": "e969ab49",
   "metadata": {},
   "outputs": [
    {
     "name": "stdout",
     "output_type": "stream",
     "text": [
      "1\n",
      "2\n",
      "3\n",
      "4\n",
      "5\n",
      "6\n",
      "7\n",
      "8\n",
      "9\n",
      "10\n",
      "11\n",
      "12\n",
      "13\n",
      "14\n"
     ]
    }
   ],
   "source": [
    "for i in range(1,15):\n",
    "    print(i)"
   ]
  },
  {
   "cell_type": "code",
   "execution_count": 17,
   "id": "30b4140f",
   "metadata": {},
   "outputs": [
    {
     "name": "stdout",
     "output_type": "stream",
     "text": [
      "1\n",
      "1\n",
      "2\n",
      "2\n",
      "1\n",
      "2\n",
      "3\n",
      "1\n",
      "2\n",
      "4\n",
      "1\n",
      "2\n",
      "5\n",
      "1\n",
      "2\n",
      "6\n",
      "1\n",
      "2\n",
      "7\n",
      "1\n",
      "2\n",
      "8\n",
      "1\n",
      "2\n",
      "9\n",
      "1\n",
      "2\n",
      "10\n",
      "1\n",
      "2\n",
      "11\n",
      "1\n",
      "2\n",
      "12\n",
      "1\n",
      "2\n",
      "13\n",
      "1\n",
      "2\n",
      "14\n",
      "1\n",
      "2\n"
     ]
    }
   ],
   "source": [
    "for i in range(1,15):\n",
    "    print(i)\n",
    "    for j in range(1,3):\n",
    "        print(j)"
   ]
  },
  {
   "cell_type": "code",
   "execution_count": 18,
   "id": "61fa13d7",
   "metadata": {},
   "outputs": [
    {
     "name": "stdout",
     "output_type": "stream",
     "text": [
      "hello\n"
     ]
    }
   ],
   "source": [
    "print(\"hello\")"
   ]
  },
  {
   "cell_type": "markdown",
   "id": "6e2f5e79",
   "metadata": {},
   "source": [
    "# model building"
   ]
  },
  {
   "cell_type": "code",
   "execution_count": null,
   "id": "63cd6ca9",
   "metadata": {},
   "outputs": [],
   "source": []
  },
  {
   "cell_type": "markdown",
   "id": "54ca465c",
   "metadata": {},
   "source": [
    "# comments\n"
   ]
  },
  {
   "cell_type": "markdown",
   "id": "0d37fd9a",
   "metadata": {},
   "source": [
    "# keywords"
   ]
  },
  {
   "cell_type": "code",
   "execution_count": 23,
   "id": "f5a440a0",
   "metadata": {},
   "outputs": [
    {
     "data": {
      "text/plain": [
       "['False',\n",
       " 'None',\n",
       " 'True',\n",
       " '__peg_parser__',\n",
       " 'and',\n",
       " 'as',\n",
       " 'assert',\n",
       " 'async',\n",
       " 'await',\n",
       " 'break',\n",
       " 'class',\n",
       " 'continue',\n",
       " 'def',\n",
       " 'del',\n",
       " 'elif',\n",
       " 'else',\n",
       " 'except',\n",
       " 'finally',\n",
       " 'for',\n",
       " 'from',\n",
       " 'global',\n",
       " 'if',\n",
       " 'import',\n",
       " 'in',\n",
       " 'is',\n",
       " 'lambda',\n",
       " 'nonlocal',\n",
       " 'not',\n",
       " 'or',\n",
       " 'pass',\n",
       " 'raise',\n",
       " 'return',\n",
       " 'try',\n",
       " 'while',\n",
       " 'with',\n",
       " 'yield']"
      ]
     },
     "execution_count": 23,
     "metadata": {},
     "output_type": "execute_result"
    }
   ],
   "source": [
    "import keyword\n",
    "keyword.kwlist"
   ]
  },
  {
   "cell_type": "markdown",
   "id": "7abbccac",
   "metadata": {},
   "source": [
    "# identifiers"
   ]
  },
  {
   "cell_type": "code",
   "execution_count": 26,
   "id": "4d45fca5",
   "metadata": {},
   "outputs": [
    {
     "data": {
      "text/plain": [
       "4235"
      ]
     },
     "execution_count": 26,
     "metadata": {},
     "output_type": "execute_result"
    }
   ],
   "source": [
    "Aval235_=4235\n",
    "Aval235_"
   ]
  },
  {
   "cell_type": "code",
   "execution_count": 27,
   "id": "2ffff861",
   "metadata": {},
   "outputs": [
    {
     "data": {
      "text/plain": [
       "4"
      ]
     },
     "execution_count": 27,
     "metadata": {},
     "output_type": "execute_result"
    }
   ],
   "source": [
    "var2=4\n",
    "var2"
   ]
  },
  {
   "cell_type": "code",
   "execution_count": 28,
   "id": "e9de18ae",
   "metadata": {},
   "outputs": [
    {
     "data": {
      "text/plain": [
       "21"
      ]
     },
     "execution_count": 28,
     "metadata": {},
     "output_type": "execute_result"
    }
   ],
   "source": [
    "_var=21\n",
    "_var"
   ]
  },
  {
   "cell_type": "code",
   "execution_count": 29,
   "id": "ec20cce6",
   "metadata": {},
   "outputs": [
    {
     "data": {
      "text/plain": [
       "2376467559792"
      ]
     },
     "execution_count": 29,
     "metadata": {},
     "output_type": "execute_result"
    }
   ],
   "source": [
    "name='shravan'\n",
    "id(name)"
   ]
  },
  {
   "cell_type": "code",
   "execution_count": 32,
   "id": "3a10f219",
   "metadata": {},
   "outputs": [
    {
     "data": {
      "text/plain": [
       "2376467565104"
      ]
     },
     "execution_count": 32,
     "metadata": {},
     "output_type": "execute_result"
    }
   ],
   "source": [
    "name='ravi'\n",
    "id(name)"
   ]
  },
  {
   "cell_type": "markdown",
   "id": "ff577288",
   "metadata": {},
   "source": [
    "# Type casting"
   ]
  },
  {
   "cell_type": "code",
   "execution_count": 42,
   "id": "eaf0c30c",
   "metadata": {},
   "outputs": [
    {
     "name": "stdout",
     "output_type": "stream",
     "text": [
      "55.0\n"
     ]
    },
    {
     "data": {
      "text/plain": [
       "47"
      ]
     },
     "execution_count": 42,
     "metadata": {},
     "output_type": "execute_result"
    }
   ],
   "source": [
    "var1=55 #change to float\n",
    "var2=47.6 #change to int\n",
    "var3=98 #change to str\n",
    "\"\"\"this is\"\"\"\n",
    "\n",
    "var1=float(var1)\n",
    "var2=int(var2)\n",
    "print(var1)\n",
    "var2"
   ]
  },
  {
   "cell_type": "code",
   "execution_count": 48,
   "id": "20df7bdd",
   "metadata": {},
   "outputs": [
    {
     "name": "stdout",
     "output_type": "stream",
     "text": [
      "55.0\n"
     ]
    },
    {
     "data": {
      "text/plain": [
       "'98'"
      ]
     },
     "execution_count": 48,
     "metadata": {},
     "output_type": "execute_result"
    }
   ],
   "source": [
    "var1=55 #change to float\n",
    "var2=47.6 #change to int\n",
    "var3=98 #change to str\n",
    "\n",
    "\n",
    "var1=float(var1)\n",
    "var2=int(var2)\n",
    "var3=str(var3)\n",
    "print(var1)\n",
    "var2\n",
    "var3"
   ]
  },
  {
   "cell_type": "code",
   "execution_count": 50,
   "id": "74a672d7",
   "metadata": {},
   "outputs": [
    {
     "data": {
      "text/plain": [
       "2"
      ]
     },
     "execution_count": 50,
     "metadata": {},
     "output_type": "execute_result"
    }
   ],
   "source": [
    "var=2\n",
    "var"
   ]
  },
  {
   "cell_type": "code",
   "execution_count": 1,
   "id": "d88f336e",
   "metadata": {},
   "outputs": [
    {
     "name": "stdout",
     "output_type": "stream",
     "text": [
      "Help on method raw_input in module ipykernel.kernelbase:\n",
      "\n",
      "raw_input(prompt='') method of ipykernel.ipkernel.IPythonKernel instance\n",
      "    Forward raw_input to frontends\n",
      "    \n",
      "    Raises\n",
      "    ------\n",
      "    StdinNotImplementedError if active frontend doesn't support stdin.\n",
      "\n"
     ]
    }
   ],
   "source": [
    "help(input)"
   ]
  },
  {
   "cell_type": "code",
   "execution_count": 2,
   "id": "a916be36",
   "metadata": {},
   "outputs": [
    {
     "data": {
      "text/plain": [
       "Type help() for interactive help, or help(object) for help about object."
      ]
     },
     "execution_count": 2,
     "metadata": {},
     "output_type": "execute_result"
    }
   ],
   "source": [
    "help"
   ]
  },
  {
   "cell_type": "code",
   "execution_count": 3,
   "id": "e68d8f71",
   "metadata": {},
   "outputs": [
    {
     "name": "stdout",
     "output_type": "stream",
     "text": [
      "Help on built-in function format in module builtins:\n",
      "\n",
      "format(value, format_spec='', /)\n",
      "    Return value.__format__(format_spec)\n",
      "    \n",
      "    format_spec defaults to the empty string.\n",
      "    See the Format Specification Mini-Language section of help('FORMATTING') for\n",
      "    details.\n",
      "\n"
     ]
    }
   ],
   "source": [
    "help(format)"
   ]
  },
  {
   "cell_type": "code",
   "execution_count": null,
   "id": "6655046e",
   "metadata": {},
   "outputs": [],
   "source": []
  }
 ],
 "metadata": {
  "kernelspec": {
   "display_name": "Python 3 (ipykernel)",
   "language": "python",
   "name": "python3"
  },
  "language_info": {
   "codemirror_mode": {
    "name": "ipython",
    "version": 3
   },
   "file_extension": ".py",
   "mimetype": "text/x-python",
   "name": "python",
   "nbconvert_exporter": "python",
   "pygments_lexer": "ipython3",
   "version": "3.9.13"
  }
 },
 "nbformat": 4,
 "nbformat_minor": 5
}
