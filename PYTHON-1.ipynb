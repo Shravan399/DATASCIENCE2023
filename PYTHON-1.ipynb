{
 "cells": [
  {
   "cell_type": "markdown",
   "id": "a6c1c07f",
   "metadata": {},
   "source": [
    "# VARIABLES"
   ]
  },
  {
   "cell_type": "code",
   "execution_count": 3,
   "id": "e820e057",
   "metadata": {},
   "outputs": [
    {
     "data": {
      "text/plain": [
       "1"
      ]
     },
     "execution_count": 3,
     "metadata": {},
     "output_type": "execute_result"
    }
   ],
   "source": [
    "var=1\n",
    "Var=2\n",
    "var\n"
   ]
  },
  {
   "cell_type": "code",
   "execution_count": 4,
   "id": "b884c8f4",
   "metadata": {},
   "outputs": [
    {
     "data": {
      "text/plain": [
       "2"
      ]
     },
     "execution_count": 4,
     "metadata": {},
     "output_type": "execute_result"
    }
   ],
   "source": [
    "Var"
   ]
  },
  {
   "cell_type": "code",
   "execution_count": 5,
   "id": "74e92c71",
   "metadata": {},
   "outputs": [
    {
     "name": "stdout",
     "output_type": "stream",
     "text": [
      "enter your nameshravan\n"
     ]
    }
   ],
   "source": [
    "var=input(\"enter your name\")"
   ]
  },
  {
   "cell_type": "code",
   "execution_count": 6,
   "id": "c7f8f434",
   "metadata": {},
   "outputs": [
    {
     "data": {
      "text/plain": [
       "'shravan'"
      ]
     },
     "execution_count": 6,
     "metadata": {},
     "output_type": "execute_result"
    }
   ],
   "source": [
    "var"
   ]
  },
  {
   "cell_type": "code",
   "execution_count": 9,
   "id": "432fad19",
   "metadata": {},
   "outputs": [
    {
     "name": "stdout",
     "output_type": "stream",
     "text": [
      "king\n"
     ]
    }
   ],
   "source": [
    "print(\"king\")"
   ]
  },
  {
   "cell_type": "code",
   "execution_count": 10,
   "id": "f958949e",
   "metadata": {},
   "outputs": [
    {
     "name": "stdout",
     "output_type": "stream",
     "text": [
      "shravan\n"
     ]
    }
   ],
   "source": [
    "print(var)"
   ]
  },
  {
   "cell_type": "code",
   "execution_count": 11,
   "id": "b26c3a2e",
   "metadata": {},
   "outputs": [
    {
     "data": {
      "text/plain": [
       "('shravan', 234, 'hfksd')"
      ]
     },
     "execution_count": 11,
     "metadata": {},
     "output_type": "execute_result"
    }
   ],
   "source": [
    "id=(var,234,\"hfksd\")\n",
    "id"
   ]
  },
  {
   "cell_type": "code",
   "execution_count": 13,
   "id": "3db8de61",
   "metadata": {},
   "outputs": [
    {
     "name": "stdout",
     "output_type": "stream",
     "text": [
      "1 2\n"
     ]
    }
   ],
   "source": [
    "print(1, end=\" \")\n",
    "print(2)"
   ]
  },
  {
   "cell_type": "code",
   "execution_count": 14,
   "id": "3e41673c",
   "metadata": {},
   "outputs": [
    {
     "name": "stdout",
     "output_type": "stream",
     "text": [
      "1*2\n"
     ]
    }
   ],
   "source": [
    "print(1, end=\"*\")\n",
    "print(2)"
   ]
  },
  {
   "cell_type": "code",
   "execution_count": 19,
   "id": "5729ebb3",
   "metadata": {},
   "outputs": [
    {
     "name": "stdout",
     "output_type": "stream",
     "text": [
      ";*2\n",
      "\\][.]*3\n"
     ]
    }
   ],
   "source": [
    "print(\";\", end=\"*\")\n",
    "print(2)\n",
    "print(\"\\][.]\", end=\"*\")\n",
    "print(3)"
   ]
  },
  {
   "cell_type": "code",
   "execution_count": null,
   "id": "373f6afd",
   "metadata": {},
   "outputs": [],
   "source": []
  }
 ],
 "metadata": {
  "kernelspec": {
   "display_name": "Python 3 (ipykernel)",
   "language": "python",
   "name": "python3"
  },
  "language_info": {
   "codemirror_mode": {
    "name": "ipython",
    "version": 3
   },
   "file_extension": ".py",
   "mimetype": "text/x-python",
   "name": "python",
   "nbconvert_exporter": "python",
   "pygments_lexer": "ipython3",
   "version": "3.9.13"
  }
 },
 "nbformat": 4,
 "nbformat_minor": 5
}
