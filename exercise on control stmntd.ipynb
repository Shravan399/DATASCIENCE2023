{
 "cells": [
  {
   "cell_type": "code",
   "execution_count": 1,
   "id": "94f59dbc",
   "metadata": {},
   "outputs": [],
   "source": [
    "#print first 10 natural numbers using while loop"
   ]
  },
  {
   "cell_type": "code",
   "execution_count": 2,
   "id": "f18139eb",
   "metadata": {},
   "outputs": [
    {
     "name": "stdout",
     "output_type": "stream",
     "text": [
      "1\n",
      "2\n",
      "3\n",
      "4\n",
      "5\n",
      "6\n",
      "7\n",
      "8\n",
      "9\n",
      "10\n"
     ]
    }
   ],
   "source": [
    "n=1\n",
    "while n<=10:\n",
    "    print(n)\n",
    "    n+=1"
   ]
  },
  {
   "cell_type": "code",
   "execution_count": 9,
   "id": "5d97b400",
   "metadata": {},
   "outputs": [
    {
     "ename": "SyntaxError",
     "evalue": "EOL while scanning string literal (4120728093.py, line 3)",
     "output_type": "error",
     "traceback": [
      "\u001b[1;36m  File \u001b[1;32m\"C:\\Users\\Pintoo\\AppData\\Local\\Temp\\ipykernel_12352\\4120728093.py\"\u001b[1;36m, line \u001b[1;32m3\u001b[0m\n\u001b[1;33m    print(f'multiplication of {n})\u001b[0m\n\u001b[1;37m                                  ^\u001b[0m\n\u001b[1;31mSyntaxError\u001b[0m\u001b[1;31m:\u001b[0m EOL while scanning string literal\n"
     ]
    }
   ],
   "source": []
  },
  {
   "cell_type": "code",
   "execution_count": 10,
   "id": "4037e61d",
   "metadata": {},
   "outputs": [
    {
     "name": "stdout",
     "output_type": "stream",
     "text": [
      "\n",
      "0\n",
      "01\n",
      "012\n",
      "0123\n",
      "01234\n",
      "012345\n",
      "0123456\n",
      "01234567\n"
     ]
    }
   ],
   "source": [
    "for i in range(0,9):\n",
    "    for j in range(i):\n",
    "        print(j,end='')\n",
    "    print()"
   ]
  },
  {
   "cell_type": "code",
   "execution_count": 11,
   "id": "1a2aed51",
   "metadata": {},
   "outputs": [
    {
     "name": "stdout",
     "output_type": "stream",
     "text": [
      "  *   *   *   *   \n",
      "*       *       * \n",
      "*               * \n",
      "*               * \n",
      "  *           *   \n",
      "    *       *     \n",
      "      *   *       \n",
      "        *         \n"
     ]
    }
   ],
   "source": [
    "\n",
    "n = 8\n",
    "m = n+1\n",
    "\n",
    "# loops for upper part\n",
    "for i in range(n//2-1):\n",
    "    for j in range(m):\n",
    "\t\t\n",
    "\t\t# condition for printing stars to GFG upper line\n",
    "\t\tif i == n//2-2 and (j == 0 or j == m-1):\n",
    "\t\t\tprint(\"*\", end=\" \")\n",
    "\t\t\t\n",
    "\t\t# condition for printing stars to left upper\n",
    "\t\telif j <= m//2 and ((i+j == n//2-3 and j <= m//4) \\\n",
    "\t\t\t\t\t\t\tor (j-i == m//2-n//2+3 and j > m//4)):\n",
    "\t\t\tprint(\"*\", end=\" \")\n",
    "\t\t\t\n",
    "\t\t# condition for printing stars to right upper\n",
    "\t\telif j > m//2 and ((i+j == n//2-3+m//2 and j < 3*m//4) \\\n",
    "\t\t\t\t\t\tor (j-i == m//2-n//2+3+m//2 and j >= 3*m//4)):\n",
    "\t\t\tprint(\"*\", end=\" \")\n",
    "\t\t\t\n",
    "\t\t# condition for printing spaces\n",
    "\t\telse:\n",
    "\t\t\tprint(\" \", end=\" \")\n",
    "\tprint()\n",
    "\n",
    "# loops for lower part\n",
    "for i in range(n//2-1, n):\n",
    "\tfor j in range(m):\n",
    "\t\t\n",
    "\t\t# condition for printing stars\n",
    "\t\tif (i-j == n//2-1) or (i+j == n-1+m//2):\n",
    "\t\t\tprint('*', end=\" \")\n",
    "\t\t\t\n",
    "\t\t# condition for printing spaces\n",
    "\t\telse:\n",
    "\t\t\tprint(' ', end=\" \")\n",
    "\t\t\t\n",
    "\tprint()"
   ]
  },
  {
   "cell_type": "code",
   "execution_count": 13,
   "id": "aef8c1bb",
   "metadata": {},
   "outputs": [],
   "source": [
    "#calculate the sum of all numbers from 1 to a given number"
   ]
  },
  {
   "cell_type": "code",
   "execution_count": 15,
   "id": "1e0fc724",
   "metadata": {},
   "outputs": [
    {
     "name": "stdout",
     "output_type": "stream",
     "text": [
      "Number: 6\n",
      "21\n"
     ]
    }
   ],
   "source": [
    "number = int(input(\"Number: \"))\n",
    "sum = 0\n",
    "for i in range(1, number + 1):\n",
    "    sum += i\n",
    "print(sum)"
   ]
  },
  {
   "cell_type": "code",
   "execution_count": 16,
   "id": "c1fde8c0",
   "metadata": {},
   "outputs": [],
   "source": [
    "#WAP to print multiplication table of a given number"
   ]
  },
  {
   "cell_type": "code",
   "execution_count": 21,
   "id": "5086db24",
   "metadata": {},
   "outputs": [
    {
     "name": "stdout",
     "output_type": "stream",
     "text": [
      "2\n",
      "4\n",
      "6\n",
      "8\n",
      "10\n",
      "12\n",
      "14\n",
      "16\n",
      "18\n",
      "20\n"
     ]
    }
   ],
   "source": [
    "n=2 \n",
    "for i in range(1,11):\n",
    "    print(i*n)"
   ]
  },
  {
   "cell_type": "code",
   "execution_count": 22,
   "id": "32d5534f",
   "metadata": {},
   "outputs": [],
   "source": [
    "#count the total number of digits in a number"
   ]
  },
  {
   "cell_type": "code",
   "execution_count": 26,
   "id": "d6b2ebd8",
   "metadata": {},
   "outputs": [
    {
     "ename": "SyntaxError",
     "evalue": "EOL while scanning string literal (2578037004.py, line 3)",
     "output_type": "error",
     "traceback": [
      "\u001b[1;36m  File \u001b[1;32m\"C:\\Users\\Pintoo\\AppData\\Local\\Temp\\ipykernel_12352\\2578037004.py\"\u001b[1;36m, line \u001b[1;32m3\u001b[0m\n\u001b[1;33m    print(f'number iof digits {n})\u001b[0m\n\u001b[1;37m                                  ^\u001b[0m\n\u001b[1;31mSyntaxError\u001b[0m\u001b[1;31m:\u001b[0m EOL while scanning string literal\n"
     ]
    }
   ],
   "source": []
  },
  {
   "cell_type": "code",
   "execution_count": 27,
   "id": "5e1e5408",
   "metadata": {},
   "outputs": [
    {
     "data": {
      "text/plain": [
       "3"
      ]
     },
     "execution_count": 27,
     "metadata": {},
     "output_type": "execute_result"
    }
   ],
   "source": [
    "num=str(345)\n",
    "len(num)"
   ]
  },
  {
   "cell_type": "code",
   "execution_count": 28,
   "id": "58e688ae",
   "metadata": {},
   "outputs": [],
   "source": [
    "#print string in reverse order using a loop"
   ]
  },
  {
   "cell_type": "code",
   "execution_count": 36,
   "id": "1194da4a",
   "metadata": {},
   "outputs": [
    {
     "name": "stdout",
     "output_type": "stream",
     "text": [
      "gnirtS"
     ]
    }
   ],
   "source": [
    "s='String'\n",
    "for i in range(len(s)-1,-1,-1):\n",
    "    print(s[i],end='')"
   ]
  },
  {
   "cell_type": "code",
   "execution_count": null,
   "id": "f8acb457",
   "metadata": {},
   "outputs": [],
   "source": [
    "for i in range(-10,0)\n",
    "    "
   ]
  },
  {
   "cell_type": "code",
   "execution_count": 39,
   "id": "48c2fa20",
   "metadata": {},
   "outputs": [
    {
     "ename": "TypeError",
     "evalue": "Cannot interpret '10' as a data type",
     "output_type": "error",
     "traceback": [
      "\u001b[1;31m---------------------------------------------------------------------------\u001b[0m",
      "\u001b[1;31mTypeError\u001b[0m                                 Traceback (most recent call last)",
      "\u001b[1;32m~\\AppData\\Local\\Temp\\ipykernel_12352\\3654116086.py\u001b[0m in \u001b[0;36m<module>\u001b[1;34m\u001b[0m\n\u001b[0;32m      3\u001b[0m \u001b[1;33m\u001b[0m\u001b[0m\n\u001b[0;32m      4\u001b[0m \u001b[1;32mfor\u001b[0m \u001b[0mi\u001b[0m \u001b[1;32min\u001b[0m \u001b[0mrange\u001b[0m\u001b[1;33m(\u001b[0m\u001b[1;36m1\u001b[0m\u001b[1;33m,\u001b[0m\u001b[1;36m5\u001b[0m\u001b[1;33m)\u001b[0m\u001b[1;33m:\u001b[0m\u001b[1;33m\u001b[0m\u001b[1;33m\u001b[0m\u001b[0m\n\u001b[1;32m----> 5\u001b[1;33m     \u001b[0mx\u001b[0m\u001b[1;33m=\u001b[0m\u001b[0mnp\u001b[0m\u001b[1;33m.\u001b[0m\u001b[0marray\u001b[0m\u001b[1;33m(\u001b[0m\u001b[1;36m1\u001b[0m\u001b[1;33m,\u001b[0m\u001b[1;36m10\u001b[0m\u001b[1;33m)\u001b[0m\u001b[1;33m\u001b[0m\u001b[1;33m\u001b[0m\u001b[0m\n\u001b[0m\u001b[0;32m      6\u001b[0m     \u001b[0my\u001b[0m\u001b[1;33m=\u001b[0m\u001b[0mnp\u001b[0m\u001b[1;33m.\u001b[0m\u001b[0mrandom\u001b[0m\u001b[1;33m.\u001b[0m\u001b[0mrandint\u001b[0m\u001b[1;33m(\u001b[0m\u001b[1;36m1\u001b[0m\u001b[1;33m,\u001b[0m\u001b[1;36m50\u001b[0m\u001b[1;33m,\u001b[0m\u001b[1;36m9\u001b[0m\u001b[1;33m)\u001b[0m\u001b[1;33m\u001b[0m\u001b[1;33m\u001b[0m\u001b[0m\n\u001b[0;32m      7\u001b[0m     \u001b[0mplt\u001b[0m\u001b[1;33m.\u001b[0m\u001b[0msubplot\u001b[0m\u001b[1;33m(\u001b[0m\u001b[1;36m2\u001b[0m\u001b[1;33m,\u001b[0m\u001b[1;36m2\u001b[0m\u001b[1;33m,\u001b[0m\u001b[0mi\u001b[0m\u001b[1;33m)\u001b[0m\u001b[1;33m\u001b[0m\u001b[1;33m\u001b[0m\u001b[0m\n",
      "\u001b[1;31mTypeError\u001b[0m: Cannot interpret '10' as a data type"
     ]
    }
   ],
   "source": [
    "import numpy as np\n",
    "import matplotlib.pyplot as plt\n",
    "\n",
    "for i in range(1,5):\n",
    "    x=np.array(1,10)\n",
    "    y=np.random.randint(1,50,9)\n",
    "    plt.subplot(2,2,i)\n",
    "    plt.plot(x,y)\n",
    "    "
   ]
  },
  {
   "cell_type": "code",
   "execution_count": null,
   "id": "b3cb2c78",
   "metadata": {},
   "outputs": [],
   "source": []
  }
 ],
 "metadata": {
  "kernelspec": {
   "display_name": "Python 3 (ipykernel)",
   "language": "python",
   "name": "python3"
  },
  "language_info": {
   "codemirror_mode": {
    "name": "ipython",
    "version": 3
   },
   "file_extension": ".py",
   "mimetype": "text/x-python",
   "name": "python",
   "nbconvert_exporter": "python",
   "pygments_lexer": "ipython3",
   "version": "3.9.13"
  },
  "nbTranslate": {
   "displayLangs": [
    "*"
   ],
   "hotkey": "alt-t",
   "langInMainMenu": true,
   "sourceLang": "en",
   "targetLang": "fr",
   "useGoogleTranslate": true
  }
 },
 "nbformat": 4,
 "nbformat_minor": 5
}
