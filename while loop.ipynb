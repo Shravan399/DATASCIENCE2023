{
 "cells": [
  {
   "cell_type": "code",
   "execution_count": null,
   "id": "bc2b50f0",
   "metadata": {},
   "outputs": [],
   "source": [
    "n=0\n",
    "while True:\n",
    "    print(n)\n",
    "    n+=1\n",
    "    if n==5:break\n",
    "print('end of loop')"
   ]
  },
  {
   "cell_type": "code",
   "execution_count": null,
   "id": "9918291d",
   "metadata": {},
   "outputs": [],
   "source": [
    "while True:\n",
    "    n=input('>')\n",
    "    if n=='done':break\n",
    "    print(n)\n",
    "        \n",
    "print('loop nend')"
   ]
  },
  {
   "cell_type": "code",
   "execution_count": null,
   "id": "94fab0f0",
   "metadata": {},
   "outputs": [],
   "source": [
    "while True:\n",
    "    n=input('>')\n",
    "    if n[0]=='#':continue\n",
    "    if n=='done':break\n",
    "    print(n)\n",
    "        \n",
    "print('loop nend')"
   ]
  },
  {
   "cell_type": "code",
   "execution_count": null,
   "id": "90799af3",
   "metadata": {},
   "outputs": [],
   "source": [
    "while True:\n",
    "    n=input('>')\n",
    "    if n[0]=='#':continue\n",
    "    if n=='done':break\n",
    "    if n=='Hello':\n",
    "        pass\n",
    "        print(\"this book\")\n",
    "    print(n)\n",
    "        \n",
    "print('loop end')"
   ]
  },
  {
   "cell_type": "code",
   "execution_count": null,
   "id": "d0aacfde",
   "metadata": {},
   "outputs": [],
   "source": [
    "#wap that will run endlessly untill user enter stops\n",
    "while True:\n",
    "    n=input('>')\n",
    "    if n=='stop':break\n",
    "    print(n)\n",
    "print('end')\n",
    "\n"
   ]
  },
  {
   "cell_type": "code",
   "execution_count": null,
   "id": "9f3d908f",
   "metadata": {},
   "outputs": [],
   "source": [
    "num=0\n",
    "while True:\n",
    "    num=int(input('enter number'))\n",
    "    print(f'{n} * {num} = {n*num}')\n",
    "    if n==10:break\n",
    "    n+=1"
   ]
  },
  {
   "cell_type": "code",
   "execution_count": null,
   "id": "b1d287a6",
   "metadata": {},
   "outputs": [],
   "source": [
    "n=0\n",
    "num=int(input('enter number'))\n",
    "\n",
    "while True:\n",
    "    print(f'{n} * {num} = {n*num}')\n",
    "    if n==10:break\n",
    "    n+=1"
   ]
  },
  {
   "cell_type": "code",
   "execution_count": null,
   "id": "00a63cd5",
   "metadata": {},
   "outputs": [],
   "source": [
    "n=0\n",
    "while n<=10:\n",
    "    num=input('enter number')\n",
    "    print(f'{n}*{num}={n*num}')\n",
    "    n+=1"
   ]
  },
  {
   "cell_type": "code",
   "execution_count": 1,
   "id": "49005c42",
   "metadata": {},
   "outputs": [
    {
     "name": "stdout",
     "output_type": "stream",
     "text": [
      "h\n",
      "e\n",
      "l\n",
      "l\n",
      "o\n",
      " \n",
      "w\n",
      "o\n",
      "r\n",
      "l\n",
      "d\n"
     ]
    }
   ],
   "source": [
    "for iterator in 'hello world':\n",
    "    print(iterator)\n",
    "    #if iterator=='0':\n",
    "        \n",
    "    "
   ]
  },
  {
   "cell_type": "code",
   "execution_count": 2,
   "id": "85460d98",
   "metadata": {},
   "outputs": [
    {
     "name": "stdout",
     "output_type": "stream",
     "text": [
      "s\n",
      "t\n",
      "r\n",
      "it was a vowel\n",
      "n\n",
      "g\n"
     ]
    }
   ],
   "source": [
    "l='string'\n",
    "\n",
    "for i in l:\n",
    "    if i in 'aeiou':\n",
    "        pass\n",
    "        print('it was a vowel')\n",
    "    else:\n",
    "        print(i)"
   ]
  },
  {
   "cell_type": "code",
   "execution_count": null,
   "id": "318d0215",
   "metadata": {},
   "outputs": [],
   "source": [
    "for i in l:\n",
    "    "
   ]
  },
  {
   "cell_type": "code",
   "execution_count": null,
   "id": "af23a44a",
   "metadata": {},
   "outputs": [],
   "source": [
    "for i in range(10,-10)\n",
    "    print(i)"
   ]
  },
  {
   "cell_type": "code",
   "execution_count": null,
   "id": "c2299de3",
   "metadata": {},
   "outputs": [],
   "source": [
    "word='Hello'\n",
    "for i in range(len(word)):\n",
    "    print(i,word[i])"
   ]
  },
  {
   "cell_type": "code",
   "execution_count": null,
   "id": "39ba44e6",
   "metadata": {},
   "outputs": [],
   "source": [
    "m=10\n",
    "while m>=-1:\n",
    "    print(m)\n",
    "    m-=1"
   ]
  },
  {
   "cell_type": "code",
   "execution_count": null,
   "id": "d1bd1214",
   "metadata": {},
   "outputs": [],
   "source": [
    "n=10\n",
    "while True:\n",
    "    if n==-1:continue\n",
    "        \n",
    "    print(n,end='')\n",
    "    if n<=-1:break\n",
    "    if n==0:\n",
    "        pass\n",
    "        print('unique no.')\n",
    "    n-=1"
   ]
  },
  {
   "cell_type": "code",
   "execution_count": null,
   "id": "81f36b36",
   "metadata": {},
   "outputs": [],
   "source": []
  }
 ],
 "metadata": {
  "kernelspec": {
   "display_name": "Python 3 (ipykernel)",
   "language": "python",
   "name": "python3"
  },
  "language_info": {
   "codemirror_mode": {
    "name": "ipython",
    "version": 3
   },
   "file_extension": ".py",
   "mimetype": "text/x-python",
   "name": "python",
   "nbconvert_exporter": "python",
   "pygments_lexer": "ipython3",
   "version": "3.9.13"
  },
  "nbTranslate": {
   "displayLangs": [
    "*"
   ],
   "hotkey": "alt-t",
   "langInMainMenu": true,
   "sourceLang": "en",
   "targetLang": "fr",
   "useGoogleTranslate": true
  }
 },
 "nbformat": 4,
 "nbformat_minor": 5
}
