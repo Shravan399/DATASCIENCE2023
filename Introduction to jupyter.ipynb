{
 "cells": [
  {
   "cell_type": "markdown",
   "id": "2c45ce25",
   "metadata": {},
   "source": [
    "# Color selection"
   ]
  },
  {
   "cell_type": "markdown",
   "id": "34d817c6",
   "metadata": {},
   "source": [
    "<p style = \"color:red\"> hello </p>"
   ]
  },
  {
   "cell_type": "markdown",
   "id": "0a66b892",
   "metadata": {},
   "source": [
    "<p style = \"color:green\"> hello </p>"
   ]
  },
  {
   "cell_type": "markdown",
   "id": "cedfe6e7",
   "metadata": {},
   "source": [
    "# >This notebook\n"
   ]
  },
  {
   "cell_type": "markdown",
   "id": "76ad9eef",
   "metadata": {},
   "source": [
    ">This notebook"
   ]
  },
  {
   "cell_type": "markdown",
   "id": "8e0c74fe",
   "metadata": {},
   "source": [
    "# Backtick ``"
   ]
  },
  {
   "cell_type": "markdown",
   "id": "f4f26c41",
   "metadata": {},
   "source": [
    "`this is shravan`"
   ]
  },
  {
   "cell_type": "markdown",
   "id": "8a7d613b",
   "metadata": {},
   "source": [
    "`476786`"
   ]
  },
  {
   "cell_type": "markdown",
   "id": "08dbb9df",
   "metadata": {},
   "source": [
    "# Block Quote"
   ]
  },
  {
   "cell_type": "markdown",
   "id": "ff079d3b",
   "metadata": {},
   "source": [
    "--------------------------\n",
    "This is shravan kumar\n",
    "----------------------------\n",
    "text\n",
    "-----------------------------"
   ]
  },
  {
   "cell_type": "markdown",
   "id": "6c17c324",
   "metadata": {},
   "source": [
    "# -------\n",
    "jkdykaueklh\n",
    "--------"
   ]
  },
  {
   "cell_type": "markdown",
   "id": "def9ba8d",
   "metadata": {},
   "source": [
    "# Bold words"
   ]
  },
  {
   "cell_type": "markdown",
   "id": "53123634",
   "metadata": {},
   "source": [
    "**Bold**"
   ]
  },
  {
   "cell_type": "markdown",
   "id": "1a85254e",
   "metadata": {},
   "source": [
    "# Bullets"
   ]
  },
  {
   "cell_type": "markdown",
   "id": "1acbb0da",
   "metadata": {},
   "source": [
    "- point1"
   ]
  },
  {
   "cell_type": "raw",
   "id": "ade6305d",
   "metadata": {},
   "source": [
    "- point1"
   ]
  },
  {
   "cell_type": "markdown",
   "id": "e5bd8e9d",
   "metadata": {},
   "source": [
    "- poijmnty1\n",
    "\n",
    "- ujhkdafadhi"
   ]
  },
  {
   "cell_type": "markdown",
   "id": "cfa00143",
   "metadata": {},
   "source": [
    "* italist"
   ]
  },
  {
   "cell_type": "markdown",
   "id": "5f4f19da",
   "metadata": {},
   "source": [
    "# italic style     *italic"
   ]
  },
  {
   "cell_type": "markdown",
   "id": "fc1e8752",
   "metadata": {},
   "source": [
    "*irtaloisrt"
   ]
  },
  {
   "cell_type": "markdown",
   "id": "b38cfd1e",
   "metadata": {},
   "source": [
    "# Hypertext"
   ]
  },
  {
   "cell_type": "markdown",
   "id": "7c9cb98d",
   "metadata": {},
   "source": [
    "[Text] (http://localhost:8888/notebooks/Introduction%20to%20jupyter.ipynb )"
   ]
  },
  {
   "cell_type": "markdown",
   "id": "08216179",
   "metadata": {},
   "source": [
    "# Copy link  image"
   ]
  },
  {
   "cell_type": "markdown",
   "id": "4103295d",
   "metadata": {},
   "source": [
    "![image](data:image/jpeg;base64,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)"
   ]
  },
  {
   "cell_type": "markdown",
   "id": "aa6a0dc3",
   "metadata": {},
   "source": [
    "![image](copy link of image)"
   ]
  },
  {
   "cell_type": "markdown",
   "id": "f61b078e",
   "metadata": {},
   "source": [
    "# Message to display"
   ]
  },
  {
   "cell_type": "markdown",
   "id": "8a1a14e3",
   "metadata": {},
   "source": [
    "[message_to_display](https://mobile.twitter.com/hydblooddonors)"
   ]
  },
  {
   "cell_type": "code",
   "execution_count": null,
   "id": "21708473",
   "metadata": {},
   "outputs": [],
   "source": [
    "# [message_to_display](https://mobile.twitter.com/hydblooddonors)"
   ]
  },
  {
   "cell_type": "code",
   "execution_count": null,
   "id": "15e923b5",
   "metadata": {},
   "outputs": [],
   "source": []
  }
 ],
 "metadata": {
  "kernelspec": {
   "display_name": "Python 3 (ipykernel)",
   "language": "python",
   "name": "python3"
  },
  "language_info": {
   "codemirror_mode": {
    "name": "ipython",
    "version": 3
   },
   "file_extension": ".py",
   "mimetype": "text/x-python",
   "name": "python",
   "nbconvert_exporter": "python",
   "pygments_lexer": "ipython3",
   "version": "3.9.13"
  }
 },
 "nbformat": 4,
 "nbformat_minor": 5
}
