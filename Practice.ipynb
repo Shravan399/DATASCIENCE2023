{
 "cells": [
  {
   "cell_type": "code",
   "execution_count": null,
   "id": "957f7f11",
   "metadata": {},
   "outputs": [],
   "source": [
    "a=input(\"first number is :\" )\n",
    "b=input(\"second number is :\" )\n",
    "c=int(a)+int(b)\n",
    "print(f'addition of two numbers is: {c}')"
   ]
  },
  {
   "cell_type": "code",
   "execution_count": 12,
   "id": "2538c33f",
   "metadata": {},
   "outputs": [
    {
     "ename": "TypeError",
     "evalue": "set.add() takes exactly one argument (4 given)",
     "output_type": "error",
     "traceback": [
      "\u001b[1;31m---------------------------------------------------------------------------\u001b[0m",
      "\u001b[1;31mTypeError\u001b[0m                                 Traceback (most recent call last)",
      "\u001b[1;32m~\\AppData\\Local\\Temp\\ipykernel_12704\\3941739177.py\u001b[0m in \u001b[0;36m<module>\u001b[1;34m\u001b[0m\n\u001b[0;32m      1\u001b[0m \u001b[1;31m# CODE HERE\u001b[0m\u001b[1;33m\u001b[0m\u001b[1;33m\u001b[0m\u001b[0m\n\u001b[0;32m      2\u001b[0m \u001b[0ms\u001b[0m\u001b[1;33m=\u001b[0m\u001b[0mset\u001b[0m\u001b[1;33m(\u001b[0m\u001b[1;33m)\u001b[0m\u001b[1;33m\u001b[0m\u001b[1;33m\u001b[0m\u001b[0m\n\u001b[1;32m----> 3\u001b[1;33m \u001b[0ms\u001b[0m\u001b[1;33m.\u001b[0m\u001b[0madd\u001b[0m\u001b[1;33m(\u001b[0m\u001b[1;36m1\u001b[0m \u001b[1;33m,\u001b[0m \u001b[1;36m2\u001b[0m \u001b[1;33m,\u001b[0m \u001b[1;34m'innomatics'\u001b[0m\u001b[1;33m,\u001b[0m \u001b[1;34m'hub'\u001b[0m\u001b[1;33m)\u001b[0m\u001b[1;33m\u001b[0m\u001b[1;33m\u001b[0m\u001b[0m\n\u001b[0m\u001b[0;32m      4\u001b[0m \u001b[0mprint\u001b[0m\u001b[1;33m(\u001b[0m\u001b[0ms\u001b[0m\u001b[1;33m)\u001b[0m\u001b[1;33m\u001b[0m\u001b[1;33m\u001b[0m\u001b[0m\n",
      "\u001b[1;31mTypeError\u001b[0m: set.add() takes exactly one argument (4 given)"
     ]
    }
   ],
   "source": [
    "# CODE HERE\n",
    "s=set()\n",
    "s.add(1 , 2 , 'innomatics', 'hub')\n",
    "print(s)"
   ]
  },
  {
   "cell_type": "code",
   "execution_count": 3,
   "id": "c732a74e",
   "metadata": {},
   "outputs": [
    {
     "name": "stdout",
     "output_type": "stream",
     "text": [
      "Count of Words in the given Sentence: 45\n"
     ]
    }
   ],
   "source": [
    "countOfWords = len(\"Geeksforgeeks is best Computer Science Portal\")\n",
    "print(\"Count of Words in the given Sentence:\", countOfWords)"
   ]
  },
  {
   "cell_type": "code",
   "execution_count": null,
   "id": "da1133d5",
   "metadata": {},
   "outputs": [],
   "source": [
    "a=input(\"first name is :\" )\n",
    "b=input(\"second name is :\" )\n",
    "c=str(a) + \" \"+str(b)\n",
    "print(f'My full name is:  {c}')"
   ]
  },
  {
   "cell_type": "code",
   "execution_count": 3,
   "id": "aaa320ed",
   "metadata": {},
   "outputs": [],
   "source": [
    "text = \"\"\"The University of Hawaii began using radio to send digital information as early as 1971,using ALOHAnet. \n",
    "Friedhelm Hillebrand conceptualised SMS in 1984 while working for Deutsche Telekom. Sitting at a typewriter at home, \n",
    "Hillebrand typed out random sentences and counted every letter, number, punctuation, and space. \n",
    "Almost every time, the messages contained fewer than 160 characters, thus giving the basis for the \n",
    "limit one could type via text messaging. With Bernard Ghillebaert of France Télécom, he developed \n",
    "a proposal for the GSM (Groupe Spécial Mobile) meeting in February 1985 in Oslo. \n",
    "The first technical solution evolved in a GSM subgroup under the leadership of Finn Trosby. \n",
    "It was further developed under the leadership of Kevin Holley and Ian Harris (see Short Message Service). \n",
    "SMS forms an integral part of SS7 (Signalling System No. 7). Under SS7, it is a \"state\" with a 160 character data, \n",
    "coded in the ITU-T \"T.56\" text format, that has a \"sequence lead in\" to determine different language codes, \n",
    "and may have special character codes that permits, for example, sending simple graphs as text. \n",
    "This was part of ISDN (Integrated Services Digital Network) and since GSM is based on this, \n",
    "made its way to the mobile phone. Messages could be sent and received on ISDN phones, \n",
    "and these can send SMS to any GSM phone. The possibility of doing something is one thing, \n",
    "implementing it another, but systems existed from 1988 that sent SMS messages to mobile phones (compare ND-NOTIS).\"\"\""
   ]
  },
  {
   "cell_type": "code",
   "execution_count": 37,
   "id": "13966028",
   "metadata": {},
   "outputs": [
    {
     "name": "stdout",
     "output_type": "stream",
     "text": [
      "1507\n",
      "{'This', 'conceptualised', 'example,', 'in', 'part', '\"sequence', 'punctuation,', 'Bernard', '(Integrated', 'thing,', 'giving', 'language', 'System', 'using', '(Signalling', 'but', 'the', 'format,', 'coded', 'based', 'via', 'number,', 'on', 'early', 'is', 'solution', 'Deutsche', 'Under', 'technical', 'while', 'Harris', 'SS7', 'codes,', 'was', 'time,', '1984', 'Finn', 'possibility', 'characters,', 'systems', 'SMS', 'that', 'random', 'digital', 'Ian', 'from', '(see', 'forms', 'Services', 'special', '1985', 'evolved', 'mobile', 'messages', 'for', 'France', 'its', '(Groupe', 'Messages', 'thus', 'Trosby.', 'way', 'Hillebrand', 'can', 'typewriter', 'be', 'lead', 'than', 'may', 'proposal', 'data,', '1988', 'Digital', 'of', '\"state\"', 'leadership', 'further', 'it', 'Mobile)', 'since', 'contained', 'under', 'something', '160', 'counted', 'type', 'information', 'this,', 'Hawaii', 'phone.', 'ND-NOTIS).', 'could', 'implementing', 'developed', 'meeting', 'Friedhelm', 'Ghillebaert', 'as', 'Oslo.', 'radio', 'fewer', 'simple', 'SS7,', 'subgroup', 'University', 'home,', 'The', 'these', 'sending', 'Spécial', 'Service).', 'With', 'February', 'codes', 'phones', 'Short', 'Almost', 'working', 'Holley', 'messaging.', 'with', 'different', 'send', 'sentences', 'text', '7).', 'and', 'Network)', 'It', 'doing', 'ALOHAnet.', 'to', 'Telekom.', 'ITU-T', 'basis', 'Télécom,', 'every', 'GSM', '\"T.56\"', 'received', '1971,using', 'one', 'a', 'typed', 'determine', 'began', 'any', 'first', 'text.', 'out', 'in\"', 'ISDN', 'No.', 'Message', 'at', 'existed', 'sent', 'another,', 'graphs', 'space.', 'integral', 'he', 'limit', 'letter,', 'Kevin', 'has', 'permits,', 'made', 'have', 'phones,', 'an', 'Sitting', 'character', '(compare'}\n"
     ]
    },
    {
     "ename": "TypeError",
     "evalue": "'set' object is not subscriptable",
     "output_type": "error",
     "traceback": [
      "\u001b[1;31m---------------------------------------------------------------------------\u001b[0m",
      "\u001b[1;31mTypeError\u001b[0m                                 Traceback (most recent call last)",
      "\u001b[1;32m~\\AppData\\Local\\Temp\\ipykernel_21204\\308041652.py\u001b[0m in \u001b[0;36m<module>\u001b[1;34m\u001b[0m\n\u001b[0;32m      4\u001b[0m \u001b[0mprint\u001b[0m\u001b[1;33m(\u001b[0m\u001b[0ma\u001b[0m\u001b[1;33m)\u001b[0m\u001b[1;33m\u001b[0m\u001b[1;33m\u001b[0m\u001b[0m\n\u001b[0;32m      5\u001b[0m \u001b[0mlen\u001b[0m\u001b[1;33m(\u001b[0m\u001b[0ma\u001b[0m\u001b[1;33m)\u001b[0m\u001b[1;33m\u001b[0m\u001b[1;33m\u001b[0m\u001b[0m\n\u001b[1;32m----> 6\u001b[1;33m \u001b[0ma\u001b[0m\u001b[1;33m[\u001b[0m\u001b[1;36m0\u001b[0m\u001b[1;33m:\u001b[0m\u001b[1;36m9\u001b[0m\u001b[1;33m]\u001b[0m\u001b[1;33m\u001b[0m\u001b[1;33m\u001b[0m\u001b[0m\n\u001b[0m\u001b[0;32m      7\u001b[0m \u001b[1;31m#print(set(text.split()))\u001b[0m\u001b[1;33m\u001b[0m\u001b[1;33m\u001b[0m\u001b[0m\n\u001b[0;32m      8\u001b[0m \u001b[1;31m#print(set(text.unique()))\u001b[0m\u001b[1;33m\u001b[0m\u001b[1;33m\u001b[0m\u001b[0m\n",
      "\u001b[1;31mTypeError\u001b[0m: 'set' object is not subscriptable"
     ]
    }
   ],
   "source": [
    "print(len(text))\n",
    "a=set(text.split())\n",
    "a\n",
    "print(a)\n",
    "len(a)\n",
    "a[0:9]\n",
    "#print(set(text.split()))\n",
    "#print(set(text.unique()))"
   ]
  },
  {
   "cell_type": "code",
   "execution_count": 8,
   "id": "7ef0d660",
   "metadata": {},
   "outputs": [
    {
     "name": "stdout",
     "output_type": "stream",
     "text": [
      "Addition of 123 and 456 is : 579\n"
     ]
    }
   ],
   "source": [
    "a=123\n",
    "b=456\n",
    "c=int(a)+int(b)\n",
    "print(f'Addition of {a} and {b} is : {c}' )"
   ]
  },
  {
   "cell_type": "code",
   "execution_count": 35,
   "id": "3c98377f",
   "metadata": {},
   "outputs": [
    {
     "name": "stdout",
     "output_type": "stream",
     "text": [
      "244\n",
      "174\n"
     ]
    },
    {
     "ename": "TypeError",
     "evalue": "unsupported operand type(s) for /: 'int' and 'set'",
     "output_type": "error",
     "traceback": [
      "\u001b[1;31m---------------------------------------------------------------------------\u001b[0m",
      "\u001b[1;31mTypeError\u001b[0m                                 Traceback (most recent call last)",
      "\u001b[1;32m~\\AppData\\Local\\Temp\\ipykernel_21204\\3691465841.py\u001b[0m in \u001b[0;36m<module>\u001b[1;34m\u001b[0m\n\u001b[0;32m      6\u001b[0m \u001b[1;31m#b=int(number_of_unique_words)\u001b[0m\u001b[1;33m\u001b[0m\u001b[1;33m\u001b[0m\u001b[0m\n\u001b[0;32m      7\u001b[0m \u001b[0mnumber_of_unique_words\u001b[0m\u001b[1;33m\u001b[0m\u001b[1;33m\u001b[0m\u001b[0m\n\u001b[1;32m----> 8\u001b[1;33m \u001b[0mlexical_diversity\u001b[0m \u001b[1;33m=\u001b[0m \u001b[0mprint\u001b[0m\u001b[1;33m(\u001b[0m\u001b[0ma\u001b[0m\u001b[1;33m/\u001b[0m\u001b[0mb\u001b[0m\u001b[1;33m)\u001b[0m\u001b[1;33m\u001b[0m\u001b[1;33m\u001b[0m\u001b[0m\n\u001b[0m",
      "\u001b[1;31mTypeError\u001b[0m: unsupported operand type(s) for /: 'int' and 'set'"
     ]
    }
   ],
   "source": [
    "a=len(text.split())\n",
    "number_of_words=print(a)\n",
    "b=set(text.split())\n",
    "number_of_unique_words=print(len(b))\n",
    "#a=int(number_of_words)\n",
    "#b=int(number_of_unique_words)\n",
    "number_of_unique_words\n",
    "lexical_diversity = print(a/b)"
   ]
  },
  {
   "cell_type": "code",
   "execution_count": 34,
   "id": "07cffe43",
   "metadata": {},
   "outputs": [
    {
     "data": {
      "text/plain": [
       "str"
      ]
     },
     "execution_count": 34,
     "metadata": {},
     "output_type": "execute_result"
    }
   ],
   "source": [
    "#10,'10',True,10.5\n",
    "\n",
    "type(\"10\")"
   ]
  },
  {
   "cell_type": "code",
   "execution_count": null,
   "id": "ad92c20c",
   "metadata": {},
   "outputs": [],
   "source": [
    "print(str(20))"
   ]
  },
  {
   "cell_type": "code",
   "execution_count": null,
   "id": "e8e72cc3",
   "metadata": {},
   "outputs": [],
   "source": [
    "n=0\n",
    "while True:\n",
    "    print(n)\n",
    "    n+=2\n",
    "    if n==10:break\n",
    "print('end of loop')"
   ]
  },
  {
   "cell_type": "code",
   "execution_count": null,
   "id": "d7f38a02",
   "metadata": {},
   "outputs": [],
   "source": [
    "pi=3.14\n",
    "r=5\n",
    "v=4/3 * pi * r**3\n",
    "print(v)"
   ]
  },
  {
   "cell_type": "code",
   "execution_count": null,
   "id": "c8c83e26",
   "metadata": {},
   "outputs": [],
   "source": [
    "\n",
    "while True:\n",
    "    n=input('')\n",
    "    if n[0]=='#':\n",
    "    \n",
    "    \n",
    "    "
   ]
  },
  {
   "cell_type": "code",
   "execution_count": null,
   "id": "e5f22509",
   "metadata": {},
   "outputs": [],
   "source": [
    "var=34\n",
    "var\n",
    "\n",
    "_Var=78\n",
    "_Var\n",
    "\n"
   ]
  },
  {
   "cell_type": "markdown",
   "id": "ee1a5d91",
   "metadata": {},
   "source": [
    "Assume that we execute the following assignment statements: width = 17 height = 12.0 delimiter = '.' For each of the following expressions, write the value of the expression and the type (of the value of the expression).\n",
    "\n",
    "width/2\n",
    "width/2.0\n",
    "height/3\n",
    "1 + 2 * 5\n",
    "delimiter * 5"
   ]
  },
  {
   "cell_type": "code",
   "execution_count": null,
   "id": "2851c06a",
   "metadata": {},
   "outputs": [],
   "source": [
    "\n",
    "width = float(input(\"Width: \"))\n",
    "height = float(input(\"Height: \"))\n",
    "delimiter =input(\"delimiter: \")\n",
    "\n",
    "\n",
    "print(\"Value is : \", width / 2, \"and type is: \" ,type(width / 2))\n",
    "print(\"Value is : \", width / 2.0 ,\"and type is: \" , type(width / 2.0))\n",
    "print(\"Value is : \", height / 3 ,\"and type is: \" , type(height / 3))\n",
    "print(\"Value is :\" , 1 + 2 * 5,\"and type is: \" , type(1 + 2 * 5))\n",
    "print(\"Value is :\" , delimiter * 5,\"and type is: \" , type( delimiter* 5))"
   ]
  },
  {
   "cell_type": "code",
   "execution_count": null,
   "id": "184e1f7d",
   "metadata": {},
   "outputs": [],
   "source": [
    "while True:\n",
    "    n=input('>')\n",
    "    if n[0]=='#':continue\n",
    "    if n=='done':break\n",
    "    print(n)\n",
    "        \n",
    "print('loop nend')"
   ]
  },
  {
   "cell_type": "code",
   "execution_count": null,
   "id": "60bb5786",
   "metadata": {},
   "outputs": [],
   "source": []
  },
  {
   "cell_type": "code",
   "execution_count": null,
   "id": "4768042d",
   "metadata": {},
   "outputs": [],
   "source": [
    "x=10\n",
    "\n",
    "if x>10:\n",
    "    print('greater')\n",
    "    \n",
    "if x==10:\n",
    "    print('equal')\n",
    "\n",
    "if x<10:\n",
    "    print('less')"
   ]
  },
  {
   "cell_type": "code",
   "execution_count": null,
   "id": "6761cb9e",
   "metadata": {},
   "outputs": [],
   "source": [
    "x=10\n",
    "\n",
    "if x>10:\n",
    "    print('greater')\n",
    "    \n",
    "elif x==10:\n",
    "    print('equal')\n",
    "\n",
    "#if x<10:\n",
    "    #print('less')"
   ]
  },
  {
   "cell_type": "code",
   "execution_count": null,
   "id": "19a55689",
   "metadata": {},
   "outputs": [],
   "source": [
    "num1=input('first number is:')\n",
    "num2=input('second number is:')\n",
    "sum=num1+num2"
   ]
  },
  {
   "cell_type": "code",
   "execution_count": null,
   "id": "c0560d87",
   "metadata": {},
   "outputs": [],
   "source": [
    "num1=input('first number is:')\n",
    "num2=input('second number is:')\n",
    "sum=num1+num2\n",
    "print(\"the addition of {0} and {1} is {2}\".format(num1,num2,sum))"
   ]
  },
  {
   "cell_type": "code",
   "execution_count": null,
   "id": "aaf89700",
   "metadata": {},
   "outputs": [],
   "source": []
  }
 ],
 "metadata": {
  "kernelspec": {
   "display_name": "Python 3 (ipykernel)",
   "language": "python",
   "name": "python3"
  },
  "language_info": {
   "codemirror_mode": {
    "name": "ipython",
    "version": 3
   },
   "file_extension": ".py",
   "mimetype": "text/x-python",
   "name": "python",
   "nbconvert_exporter": "python",
   "pygments_lexer": "ipython3",
   "version": "3.9.13"
  },
  "nbTranslate": {
   "displayLangs": [
    "*"
   ],
   "hotkey": "alt-t",
   "langInMainMenu": true,
   "sourceLang": "en",
   "targetLang": "fr",
   "useGoogleTranslate": true
  }
 },
 "nbformat": 4,
 "nbformat_minor": 5
}
